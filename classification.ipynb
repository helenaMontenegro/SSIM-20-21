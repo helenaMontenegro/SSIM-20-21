{
  "nbformat": 4,
  "nbformat_minor": 0,
  "metadata": {
    "colab": {
      "name": "SSIM_classification.ipynb",
      "provenance": [],
      "collapsed_sections": []
    },
    "kernelspec": {
      "name": "python3",
      "display_name": "Python 3"
    },
    "accelerator": "GPU"
  },
  "cells": [
    {
      "cell_type": "code",
      "metadata": {
        "colab": {
          "base_uri": "https://localhost:8080/"
        },
        "id": "XnK4A46yB1B8",
        "outputId": "8d54a062-8d18-4fe6-c037-6c29953c84f9"
      },
      "source": [
        "from google.colab import drive\n",
        "drive.mount('/content/drive')"
      ],
      "execution_count": 1,
      "outputs": [
        {
          "output_type": "stream",
          "text": [
            "Mounted at /content/drive\n"
          ],
          "name": "stdout"
        }
      ]
    },
    {
      "cell_type": "code",
      "metadata": {
        "id": "u7hZEQFBB5c1"
      },
      "source": [
        "!cp -r /content/drive/My\\ Drive/New\\ Dataset /content/Dataset"
      ],
      "execution_count": 3,
      "outputs": []
    },
    {
      "cell_type": "code",
      "metadata": {
        "id": "01CrULIsAKw-"
      },
      "source": [
        "from keras.preprocessing.image import ImageDataGenerator\n",
        "import matplotlib.pyplot as plt\n",
        "from tensorflow.keras.applications import VGG16\n",
        "from tensorflow.keras.applications.vgg16 import preprocess_input\n",
        "from sklearn.metrics import classification_report, confusion_matrix\n",
        "import tensorflow as tf\n",
        "from tensorflow import keras\n",
        "from tensorflow.keras.models import load_model, Model\n",
        "\n",
        "import random as rn\n",
        "import numpy as np"
      ],
      "execution_count": 81,
      "outputs": []
    },
    {
      "cell_type": "markdown",
      "metadata": {
        "id": "1DIXOGfYBDoI"
      },
      "source": [
        "Set up tensorflow session."
      ]
    },
    {
      "cell_type": "code",
      "metadata": {
        "id": "WFxKG6DZBC_a"
      },
      "source": [
        "np.random.seed(42)\n",
        "rn.seed(12345)\n",
        "session_conf = tf.compat.v1.ConfigProto(intra_op_parallelism_threads=1,\n",
        "                              inter_op_parallelism_threads=1)\n",
        "tf.random.set_seed(1234)\n",
        "sess = tf.compat.v1.Session(graph=tf.compat.v1.get_default_graph(), config=session_conf)\n",
        "#K.set_session(sess)\n",
        "tf.compat.v1.keras.backend.set_session(sess)"
      ],
      "execution_count": 6,
      "outputs": []
    },
    {
      "cell_type": "markdown",
      "metadata": {
        "id": "zwMZOEJkEZ3E"
      },
      "source": [
        "Build classification model using VGG16."
      ]
    },
    {
      "cell_type": "code",
      "metadata": {
        "colab": {
          "base_uri": "https://localhost:8080/"
        },
        "id": "fQqJek9yCCmy",
        "outputId": "c194f372-d5e2-4b5b-a382-4e2a592b63e8"
      },
      "source": [
        "def build_model():\n",
        "  vgg_model = VGG16(weights='imagenet', include_top=False, input_shape=(256, 256, 3))\n",
        "  for layer in vgg_model.layers:\n",
        "      layer.trainable = True\n",
        "  classification_model = keras.layers.Flatten(name=\"flatten\")(vgg_model.output)\n",
        "  classification_model = keras.layers.Dense(512, activation=\"relu\")(classification_model)\n",
        "  classification_model = keras.layers.Dropout(0.25)(classification_model)\n",
        "  classification_model = keras.layers.Dense(3, activation=\"softmax\")(classification_model)\n",
        "\n",
        "  model = Model(inputs=vgg_model.input, outputs=classification_model)\n",
        "\n",
        "  model.compile(\n",
        "      optimizer=keras.optimizers.Adam(lr=1e-4),\n",
        "      loss=keras.losses.categorical_crossentropy,\n",
        "      metrics=['accuracy'])\n",
        "  \n",
        "  return model\n",
        "\n",
        "model = build_model()\n",
        "model.summary()"
      ],
      "execution_count": 72,
      "outputs": [
        {
          "output_type": "stream",
          "text": [
            "Model: \"functional_17\"\n",
            "_________________________________________________________________\n",
            "Layer (type)                 Output Shape              Param #   \n",
            "=================================================================\n",
            "input_10 (InputLayer)        [(None, 256, 256, 3)]     0         \n",
            "_________________________________________________________________\n",
            "block1_conv1 (Conv2D)        (None, 256, 256, 64)      1792      \n",
            "_________________________________________________________________\n",
            "block1_conv2 (Conv2D)        (None, 256, 256, 64)      36928     \n",
            "_________________________________________________________________\n",
            "block1_pool (MaxPooling2D)   (None, 128, 128, 64)      0         \n",
            "_________________________________________________________________\n",
            "block2_conv1 (Conv2D)        (None, 128, 128, 128)     73856     \n",
            "_________________________________________________________________\n",
            "block2_conv2 (Conv2D)        (None, 128, 128, 128)     147584    \n",
            "_________________________________________________________________\n",
            "block2_pool (MaxPooling2D)   (None, 64, 64, 128)       0         \n",
            "_________________________________________________________________\n",
            "block3_conv1 (Conv2D)        (None, 64, 64, 256)       295168    \n",
            "_________________________________________________________________\n",
            "block3_conv2 (Conv2D)        (None, 64, 64, 256)       590080    \n",
            "_________________________________________________________________\n",
            "block3_conv3 (Conv2D)        (None, 64, 64, 256)       590080    \n",
            "_________________________________________________________________\n",
            "block3_pool (MaxPooling2D)   (None, 32, 32, 256)       0         \n",
            "_________________________________________________________________\n",
            "block4_conv1 (Conv2D)        (None, 32, 32, 512)       1180160   \n",
            "_________________________________________________________________\n",
            "block4_conv2 (Conv2D)        (None, 32, 32, 512)       2359808   \n",
            "_________________________________________________________________\n",
            "block4_conv3 (Conv2D)        (None, 32, 32, 512)       2359808   \n",
            "_________________________________________________________________\n",
            "block4_pool (MaxPooling2D)   (None, 16, 16, 512)       0         \n",
            "_________________________________________________________________\n",
            "block5_conv1 (Conv2D)        (None, 16, 16, 512)       2359808   \n",
            "_________________________________________________________________\n",
            "block5_conv2 (Conv2D)        (None, 16, 16, 512)       2359808   \n",
            "_________________________________________________________________\n",
            "block5_conv3 (Conv2D)        (None, 16, 16, 512)       2359808   \n",
            "_________________________________________________________________\n",
            "block5_pool (MaxPooling2D)   (None, 8, 8, 512)         0         \n",
            "_________________________________________________________________\n",
            "flatten (Flatten)            (None, 32768)             0         \n",
            "_________________________________________________________________\n",
            "dense_18 (Dense)             (None, 512)               16777728  \n",
            "_________________________________________________________________\n",
            "dropout_9 (Dropout)          (None, 512)               0         \n",
            "_________________________________________________________________\n",
            "dense_19 (Dense)             (None, 3)                 1539      \n",
            "=================================================================\n",
            "Total params: 31,493,955\n",
            "Trainable params: 31,493,955\n",
            "Non-trainable params: 0\n",
            "_________________________________________________________________\n"
          ],
          "name": "stdout"
        }
      ]
    },
    {
      "cell_type": "code",
      "metadata": {
        "colab": {
          "base_uri": "https://localhost:8080/"
        },
        "id": "sVMkt3rcEfCr",
        "outputId": "51f546cc-5f1c-49f2-8593-27af23dd5946"
      },
      "source": [
        "SEED = 42\n",
        "train_datagen = ImageDataGenerator(\n",
        "  preprocessing_function=preprocess_input,\n",
        "  rescale=1./255,\n",
        "  rotation_range=45,           # apply rotations to augment data\n",
        "  width_shift_range=0.2,       # horizontal shift\n",
        "  height_shift_range=0.2,      # vertical shift\n",
        "  horizontal_flip=True,        # image flips\n",
        "  zoom_range=0.2,              # zoom\n",
        "  brightness_range=[0.8,1.2],   # brightness\n",
        "  fill_mode='nearest'\n",
        ")\n",
        "batchsize = 10\n",
        "train_generator = train_datagen.flow_from_directory(\n",
        "  directory = \"/content/Dataset/train\",\n",
        "  target_size = (256, 256),\n",
        "  batch_size = batchsize,\n",
        "  shuffle = True,\n",
        "  class_mode = 'categorical',\n",
        "  seed=SEED\n",
        ")\n",
        "\n",
        "valid_datagen = ImageDataGenerator(preprocessing_function=preprocess_input)\n",
        "batchsize = 1\n",
        "valid_generator = valid_datagen.flow_from_directory(\n",
        "  directory = \"/content/Dataset/validation\",\n",
        "  target_size = (256, 256),\n",
        "  batch_size = batchsize,\n",
        "  shuffle = False,\n",
        "  class_mode = 'categorical'\n",
        ")"
      ],
      "execution_count": 77,
      "outputs": [
        {
          "output_type": "stream",
          "text": [
            "Found 380 images belonging to 3 classes.\n",
            "Found 63 images belonging to 3 classes.\n"
          ],
          "name": "stdout"
        }
      ]
    },
    {
      "cell_type": "code",
      "metadata": {
        "id": "PQ3CMsctZfq0"
      },
      "source": [
        "def get_class_weight():\n",
        "  bathroom = 133\n",
        "  bedroom = 134\n",
        "  kitchen = 113\n",
        "  total = bathroom + bedroom + kitchen\n",
        "  class_weight = {0: total / bathroom, 1: total / bedroom, 2: total / kitchen}\n",
        "  return class_weight"
      ],
      "execution_count": 28,
      "outputs": []
    },
    {
      "cell_type": "code",
      "metadata": {
        "colab": {
          "base_uri": "https://localhost:8080/"
        },
        "id": "hWAslr7gLvTM",
        "outputId": "1b2b64d0-2a46-4f5f-cc9c-5fbcff353514"
      },
      "source": [
        "checkpoint = tf.keras.callbacks.ModelCheckpoint('vgg_{epoch:03d}.h5', monitor='val_accuracy', verbose=1, save_best_only=True, save_freq='epoch')\n",
        "early_stopping = tf.keras.callbacks.EarlyStopping(monitor='val_loss', patience=10, verbose=1, mode='min')\n",
        "\n",
        "training = model.fit(\n",
        "  train_generator,\n",
        "  class_weight=get_class_weight(),\n",
        "  epochs=100,\n",
        "  validation_data=valid_generator,\n",
        "  callbacks=[checkpoint, early_stopping],\n",
        "  verbose=1,\n",
        ")"
      ],
      "execution_count": 78,
      "outputs": [
        {
          "output_type": "stream",
          "text": [
            "<tensorflow.python.keras.preprocessing.image.DirectoryIterator object at 0x7f202e79d160>\n",
            "Epoch 1/100\n",
            " 2/38 [>.............................] - ETA: 1s - loss: 1.7191 - accuracy: 0.7500WARNING:tensorflow:Callbacks method `on_train_batch_end` is slow compared to the batch time (batch time: 0.0432s vs `on_train_batch_end` time: 0.0686s). Check your callbacks.\n",
            "38/38 [==============================] - ETA: 0s - loss: 1.3475 - accuracy: 0.8342\n",
            "Epoch 00001: val_accuracy improved from -inf to 0.73016, saving model to vgg_001.h5\n",
            "38/38 [==============================] - 14s 365ms/step - loss: 1.3475 - accuracy: 0.8342 - val_loss: 18.0645 - val_accuracy: 0.7302\n",
            "Epoch 2/100\n",
            "38/38 [==============================] - ETA: 0s - loss: 1.6837 - accuracy: 0.7789\n",
            "Epoch 00002: val_accuracy did not improve from 0.73016\n",
            "38/38 [==============================] - 13s 345ms/step - loss: 1.6837 - accuracy: 0.7789 - val_loss: 5.5290 - val_accuracy: 0.7302\n",
            "Epoch 3/100\n",
            "38/38 [==============================] - ETA: 0s - loss: 1.5838 - accuracy: 0.7868\n",
            "Epoch 00003: val_accuracy did not improve from 0.73016\n",
            "38/38 [==============================] - 13s 344ms/step - loss: 1.5838 - accuracy: 0.7868 - val_loss: 36.9721 - val_accuracy: 0.7143\n",
            "Epoch 4/100\n",
            "38/38 [==============================] - ETA: 0s - loss: 1.2160 - accuracy: 0.8632\n",
            "Epoch 00004: val_accuracy improved from 0.73016 to 0.79365, saving model to vgg_004.h5\n",
            "38/38 [==============================] - 14s 370ms/step - loss: 1.2160 - accuracy: 0.8632 - val_loss: 22.9675 - val_accuracy: 0.7937\n",
            "Epoch 5/100\n",
            "38/38 [==============================] - ETA: 0s - loss: 1.3497 - accuracy: 0.8316\n",
            "Epoch 00005: val_accuracy improved from 0.79365 to 0.87302, saving model to vgg_005.h5\n",
            "38/38 [==============================] - 15s 383ms/step - loss: 1.3497 - accuracy: 0.8316 - val_loss: 2.1036 - val_accuracy: 0.8730\n",
            "Epoch 6/100\n",
            "38/38 [==============================] - ETA: 0s - loss: 1.4851 - accuracy: 0.8132\n",
            "Epoch 00006: val_accuracy did not improve from 0.87302\n",
            "38/38 [==============================] - 13s 345ms/step - loss: 1.4851 - accuracy: 0.8132 - val_loss: 23.4047 - val_accuracy: 0.6508\n",
            "Epoch 7/100\n",
            "38/38 [==============================] - ETA: 0s - loss: 1.1115 - accuracy: 0.8605\n",
            "Epoch 00007: val_accuracy did not improve from 0.87302\n",
            "38/38 [==============================] - 13s 341ms/step - loss: 1.1115 - accuracy: 0.8605 - val_loss: 49.0930 - val_accuracy: 0.6984\n",
            "Epoch 8/100\n",
            "38/38 [==============================] - ETA: 0s - loss: 1.6731 - accuracy: 0.7921\n",
            "Epoch 00008: val_accuracy did not improve from 0.87302\n",
            "38/38 [==============================] - 13s 342ms/step - loss: 1.6731 - accuracy: 0.7921 - val_loss: 20.7053 - val_accuracy: 0.7460\n",
            "Epoch 9/100\n",
            "38/38 [==============================] - ETA: 0s - loss: 1.1251 - accuracy: 0.8553\n",
            "Epoch 00009: val_accuracy did not improve from 0.87302\n",
            "38/38 [==============================] - 13s 338ms/step - loss: 1.1251 - accuracy: 0.8553 - val_loss: 12.1201 - val_accuracy: 0.8730\n",
            "Epoch 10/100\n",
            "38/38 [==============================] - ETA: 0s - loss: 0.9710 - accuracy: 0.8868\n",
            "Epoch 00010: val_accuracy did not improve from 0.87302\n",
            "38/38 [==============================] - 13s 338ms/step - loss: 0.9710 - accuracy: 0.8868 - val_loss: 12.9671 - val_accuracy: 0.8730\n",
            "Epoch 11/100\n",
            "38/38 [==============================] - ETA: 0s - loss: 0.7573 - accuracy: 0.9000\n",
            "Epoch 00011: val_accuracy did not improve from 0.87302\n",
            "38/38 [==============================] - 13s 339ms/step - loss: 0.7573 - accuracy: 0.9000 - val_loss: 87.1682 - val_accuracy: 0.6984\n",
            "Epoch 12/100\n",
            "38/38 [==============================] - ETA: 0s - loss: 1.3422 - accuracy: 0.8316\n",
            "Epoch 00012: val_accuracy did not improve from 0.87302\n",
            "38/38 [==============================] - 13s 347ms/step - loss: 1.3422 - accuracy: 0.8316 - val_loss: 17.9152 - val_accuracy: 0.8095\n",
            "Epoch 13/100\n",
            "38/38 [==============================] - ETA: 0s - loss: 0.8687 - accuracy: 0.8947\n",
            "Epoch 00013: val_accuracy did not improve from 0.87302\n",
            "38/38 [==============================] - 13s 342ms/step - loss: 0.8687 - accuracy: 0.8947 - val_loss: 26.4014 - val_accuracy: 0.7460\n",
            "Epoch 14/100\n",
            "38/38 [==============================] - ETA: 0s - loss: 0.6606 - accuracy: 0.9105\n",
            "Epoch 00014: val_accuracy improved from 0.87302 to 0.88889, saving model to vgg_014.h5\n",
            "38/38 [==============================] - 14s 368ms/step - loss: 0.6606 - accuracy: 0.9105 - val_loss: 15.8451 - val_accuracy: 0.8889\n",
            "Epoch 15/100\n",
            "38/38 [==============================] - ETA: 0s - loss: 0.7108 - accuracy: 0.9026\n",
            "Epoch 00015: val_accuracy did not improve from 0.88889\n",
            "38/38 [==============================] - 13s 342ms/step - loss: 0.7108 - accuracy: 0.9026 - val_loss: 24.7661 - val_accuracy: 0.6667\n",
            "Epoch 00015: early stopping\n"
          ],
          "name": "stdout"
        }
      ]
    },
    {
      "cell_type": "code",
      "metadata": {
        "colab": {
          "base_uri": "https://localhost:8080/",
          "height": 545
        },
        "id": "HcdNK-ADMnLe",
        "outputId": "d8496f4c-3729-46a7-9707-58d9ccde782f"
      },
      "source": [
        "accuracy = training.history['accuracy']\n",
        "val_accuracy = training.history['val_accuracy']\n",
        "loss = training.history['loss']\n",
        "val_loss = training.history['val_loss']\n",
        "\n",
        "epochs = range(len(accuracy))\n",
        "plt.plot(epochs, accuracy, 'b', label='Training accuracy')\n",
        "plt.plot(epochs, val_accuracy, 'r', label='Validation accuracy')\n",
        "\n",
        "plt.title('Training and validation accuracy')\n",
        "plt.legend()\n",
        "plt.figure()\n",
        "plt.plot(epochs, loss, 'b', label='Training loss')\n",
        "plt.plot(epochs, val_loss, 'r', label='Validation loss')\n",
        "plt.title('Training and validation loss')\n",
        "plt.legend()\n",
        "\n",
        "plt.show()"
      ],
      "execution_count": 79,
      "outputs": [
        {
          "output_type": "display_data",
          "data": {
            "image/png": "[encoded data removed]",
            "text/plain": [
              "<Figure size 432x288 with 1 Axes>"
            ]
          },
          "metadata": {
            "tags": [],
            "needs_background": "light"
          }
        },
        {
          "output_type": "display_data",
          "data": {
            "image/png": "[encoded data removed]",
            "text/plain": [
              "<Figure size 432x288 with 1 Axes>"
            ]
          },
          "metadata": {
            "tags": [],
            "needs_background": "light"
          }
        }
      ]
    },
    {
      "cell_type": "code",
      "metadata": {
        "colab": {
          "base_uri": "https://localhost:8080/"
        },
        "id": "utT7e8PEQQb2",
        "outputId": "1980cb8e-1a11-4457-fceb-27a80843d40b"
      },
      "source": [
        "tsdata = ImageDataGenerator(preprocessing_function=preprocess_input)\n",
        "test_generator = tsdata.flow_from_directory(\n",
        "  directory=\"/content/Dataset/test\",\n",
        "  target_size=(256, 256),\n",
        "  shuffle=False,\n",
        "  batch_size=1,\n",
        "  seed=42\n",
        ")\n",
        "\n",
        "model = load_model('vgg_014.h5')\n",
        "\n",
        "results = model.evaluate(test_generator)\n",
        "print(results)\n",
        "predictions = model.predict(test_generator)\n",
        "predictions = np.argmax(predictions, axis=1)\n",
        "print(classification_report(test_generator.classes, predictions,\n",
        "\ttarget_names=test_generator.class_indices.keys()))\n",
        "print(confusion_matrix(test_generator.classes, predictions))"
      ],
      "execution_count": 84,
      "outputs": [
        {
          "output_type": "stream",
          "text": [
            "Found 82 images belonging to 3 classes.\n",
            "82/82 [==============================] - 1s 18ms/step - loss: 7.0146 - accuracy: 0.9146\n",
            "[7.0146002769470215, 0.9146341681480408]\n",
            "              precision    recall  f1-score   support\n",
            "\n",
            "    Bathroom       0.96      0.88      0.92        25\n",
            "     Bedroom       0.97      0.92      0.94        37\n",
            "     Kitchen       0.79      0.95      0.86        20\n",
            "\n",
            "    accuracy                           0.91        82\n",
            "   macro avg       0.91      0.92      0.91        82\n",
            "weighted avg       0.92      0.91      0.92        82\n",
            "\n",
            "[[22  1  2]\n",
            " [ 0 34  3]\n",
            " [ 1  0 19]]\n"
          ],
          "name": "stdout"
        }
      ]
    }
  ]
}