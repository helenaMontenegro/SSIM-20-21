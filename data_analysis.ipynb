{
  "nbformat": 4,
  "nbformat_minor": 0,
  "metadata": {
    "colab": {
      "name": "SSIM_data_analysis.ipynb",
      "provenance": [],
      "collapsed_sections": []
    },
    "kernelspec": {
      "name": "python3",
      "display_name": "Python 3"
    }
  },
  "cells": [
    {
      "cell_type": "code",
      "metadata": {
        "colab": {
          "base_uri": "https://localhost:8080/"
        },
        "id": "vkBz7OhuwEBV",
        "outputId": "23e70418-33f1-4f2b-dc18-0fd800541c86"
      },
      "source": [
        "from google.colab import drive\n",
        "drive.mount('/content/drive', force_remount=True)"
      ],
      "execution_count": 54,
      "outputs": [
        {
          "output_type": "stream",
          "text": [
            "Mounted at /content/drive\n"
          ],
          "name": "stdout"
        }
      ]
    },
    {
      "cell_type": "code",
      "metadata": {
        "id": "w8Jg8Sc0wn53"
      },
      "source": [
        "!cp -r /content/drive/My\\ Drive/New\\ Dataset /content/Dataset"
      ],
      "execution_count": 2,
      "outputs": []
    },
    {
      "cell_type": "markdown",
      "metadata": {
        "id": "3YOYgvYnwvJu"
      },
      "source": [
        "Clean and analyze the dataset."
      ]
    },
    {
      "cell_type": "code",
      "metadata": {
        "colab": {
          "base_uri": "https://localhost:8080/",
          "height": 1000
        },
        "id": "r5glQL0lwuiG",
        "outputId": "40789294-5f4b-4392-c218-98b2d3b83b42"
      },
      "source": [
        "import os\n",
        "import matplotlib.pyplot as plt\n",
        "\n",
        "def clean_database(folder):\n",
        "  image_names = os.listdir('/content/Dataset/' + folder)\n",
        "  label_names = os.listdir('/content/Dataset/' + folder + '/Label')\n",
        "  objects_found = {}\n",
        "  num_images = len(image_names) - 1\n",
        "\n",
        "  print(\"\\n\" + folder + \"\\n\")\n",
        "  print(\"Number of images: \" + str(num_images))\n",
        "  min = -1\n",
        "  max = -1\n",
        "  avg = 0\n",
        "\n",
        "  for label in label_names:\n",
        "    image_name = os.path.splitext(label)[0]+'.jpg'\n",
        "    if image_name in image_names:\n",
        "      f = open('/content/Dataset/' + folder + '/Label/' + label, \"r\")\n",
        "      arr = f.read().split(\"\\n\")\n",
        "      arr.remove('')\n",
        "\n",
        "      if min == -1 or min > len(arr):\n",
        "        min = len(arr)\n",
        "      if max == -1 or max < len(arr):\n",
        "        max = len(arr)\n",
        "      avg += len(arr)\n",
        "\n",
        "      for obj in arr:\n",
        "        obj_name = obj.split(\" \")[0]\n",
        "        if obj_name in objects_found:\n",
        "          objects_found[obj_name] += 1\n",
        "        else:\n",
        "          objects_found[obj_name] = 1\n",
        "    else:\n",
        "      os.remove('/content/Dataset/' + folder + '/Label/' + label)\n",
        "    \n",
        "  avg /= num_images\n",
        "  print(objects_found)\n",
        "  print(\"Min objects per image: \" + str(min))\n",
        "  print(\"Max objects per image: \" + str(max))\n",
        "  print(\"Avg objects per image: \" + str(avg))\n",
        "\n",
        "  plt.bar(objects_found.keys(), objects_found.values())\n",
        "  plt.show()\n",
        "\n",
        "clean_database('train/Bathroom')\n",
        "clean_database('train/Bedroom')\n",
        "clean_database('train/Kitchen')\n",
        "clean_database('validation/Bathroom')\n",
        "clean_database('validation/Bedroom')\n",
        "clean_database('validation/Kitchen')\n",
        "clean_database('test/Bathroom')\n",
        "clean_database('test/Bedroom')\n",
        "clean_database('test/Kitchen')"
      ],
      "execution_count": 65,
      "outputs": [
        {
          "output_type": "stream",
          "text": [
            "\n",
            "train/Bathroom\n",
            "\n",
            "Number of images: 133\n",
            "{'Toilet': 103, 'Bathtub': 11, 'Sink': 40, 'Window': 3}\n",
            "Min objects per image: 1\n",
            "Max objects per image: 3\n",
            "Avg objects per image: 1.1804511278195489\n"
          ],
          "name": "stdout"
        },
        {
          "output_type": "display_data",
          "data": {
            "image/png": "[encoded data removed]",
            "text/plain": [
              "<Figure size 432x288 with 1 Axes>"
            ]
          },
          "metadata": {
            "tags": [],
            "needs_background": "light"
          }
        },
        {
          "output_type": "stream",
          "text": [
            "\n",
            "train/Bedroom\n",
            "\n",
            "Number of images: 134\n",
            "{'Bed': 147, 'Window': 17}\n",
            "Min objects per image: 1\n",
            "Max objects per image: 5\n",
            "Avg objects per image: 1.2238805970149254\n"
          ],
          "name": "stdout"
        },
        {
          "output_type": "display_data",
          "data": {
            "image/png": "[encoded data removed]",
            "text/plain": [
              "<Figure size 432x288 with 1 Axes>"
            ]
          },
          "metadata": {
            "tags": [],
            "needs_background": "light"
          }
        },
        {
          "output_type": "stream",
          "text": [
            "\n",
            "train/Kitchen\n",
            "\n",
            "Number of images: 113\n",
            "{'Sink': 24, 'Refrigerator': 42, 'Window': 6, 'Oven': 61}\n",
            "Min objects per image: 1\n",
            "Max objects per image: 4\n",
            "Avg objects per image: 1.176991150442478\n"
          ],
          "name": "stdout"
        },
        {
          "output_type": "display_data",
          "data": {
            "image/png": "[encoded data removed]",
            "text/plain": [
              "<Figure size 432x288 with 1 Axes>"
            ]
          },
          "metadata": {
            "tags": [],
            "needs_background": "light"
          }
        },
        {
          "output_type": "stream",
          "text": [
            "\n",
            "validation/Bathroom\n",
            "\n",
            "Number of images: 21\n",
            "{'Toilet': 13, 'Sink': 8, 'Bathtub': 3, 'Window': 1}\n",
            "Min objects per image: 1\n",
            "Max objects per image: 2\n",
            "Avg objects per image: 1.1904761904761905\n"
          ],
          "name": "stdout"
        },
        {
          "output_type": "display_data",
          "data": {
            "image/png": "[encoded data removed]",
            "text/plain": [
              "<Figure size 432x288 with 1 Axes>"
            ]
          },
          "metadata": {
            "tags": [],
            "needs_background": "light"
          }
        },
        {
          "output_type": "stream",
          "text": [
            "\n",
            "validation/Bedroom\n",
            "\n",
            "Number of images: 18\n",
            "{'Bed': 22, 'Window': 2}\n",
            "Min objects per image: 1\n",
            "Max objects per image: 3\n",
            "Avg objects per image: 1.3333333333333333\n"
          ],
          "name": "stdout"
        },
        {
          "output_type": "display_data",
          "data": {
            "image/png": "[encoded data removed]",
            "text/plain": [
              "<Figure size 432x288 with 1 Axes>"
            ]
          },
          "metadata": {
            "tags": [],
            "needs_background": "light"
          }
        },
        {
          "output_type": "stream",
          "text": [
            "\n",
            "validation/Kitchen\n",
            "\n",
            "Number of images: 24\n",
            "{'Sink': 6, 'Oven': 15, 'Refrigerator': 9}\n",
            "Min objects per image: 1\n",
            "Max objects per image: 2\n",
            "Avg objects per image: 1.25\n"
          ],
          "name": "stdout"
        },
        {
          "output_type": "display_data",
          "data": {
            "image/png": "[encoded data removed]",
            "text/plain": [
              "<Figure size 432x288 with 1 Axes>"
            ]
          },
          "metadata": {
            "tags": [],
            "needs_background": "light"
          }
        },
        {
          "output_type": "stream",
          "text": [
            "\n",
            "test/Bathroom\n",
            "\n",
            "Number of images: 25\n",
            "{'Toilet': 15, 'Sink': 8, 'Bathtub': 3}\n",
            "Min objects per image: 1\n",
            "Max objects per image: 2\n",
            "Avg objects per image: 1.04\n"
          ],
          "name": "stdout"
        },
        {
          "output_type": "display_data",
          "data": {
            "image/png": "[encoded data removed]",
            "text/plain": [
              "<Figure size 432x288 with 1 Axes>"
            ]
          },
          "metadata": {
            "tags": [],
            "needs_background": "light"
          }
        },
        {
          "output_type": "stream",
          "text": [
            "\n",
            "test/Bedroom\n",
            "\n",
            "Number of images: 37\n",
            "{'Bed': 40, 'Window': 4}\n",
            "Min objects per image: 1\n",
            "Max objects per image: 3\n",
            "Avg objects per image: 1.1891891891891893\n"
          ],
          "name": "stdout"
        },
        {
          "output_type": "display_data",
          "data": {
            "image/png": "[encoded data removed]",
            "text/plain": [
              "<Figure size 432x288 with 1 Axes>"
            ]
          },
          "metadata": {
            "tags": [],
            "needs_background": "light"
          }
        },
        {
          "output_type": "stream",
          "text": [
            "\n",
            "test/Kitchen\n",
            "\n",
            "Number of images: 20\n",
            "{'Sink': 5, 'Oven': 18, 'Refrigerator': 2}\n",
            "Min objects per image: 1\n",
            "Max objects per image: 3\n",
            "Avg objects per image: 1.25\n"
          ],
          "name": "stdout"
        },
        {
          "output_type": "display_data",
          "data": {
            "image/png": "[encoded data removed]",
            "text/plain": [
              "<Figure size 432x288 with 1 Axes>"
            ]
          },
          "metadata": {
            "tags": [],
            "needs_background": "light"
          }
        }
      ]
    },
    {
      "cell_type": "markdown",
      "metadata": {
        "id": "1-QtK1QkFEjW"
      },
      "source": [
        "Separate data in training, validation and test."
      ]
    },
    {
      "cell_type": "code",
      "metadata": {
        "id": "Sw41pT4MIZDS"
      },
      "source": [
        "import shutil\n",
        "\n",
        "shutil.rmtree(\"/content/Dataset/train\")\n",
        "shutil.rmtree(\"/content/Dataset/validation\")\n"
      ],
      "execution_count": 49,
      "outputs": []
    },
    {
      "cell_type": "code",
      "metadata": {
        "id": "j_yB74yEEv_G"
      },
      "source": [
        "import os\n",
        "from random import seed, random\n",
        "\n",
        "seed(123)\n",
        "os.mkdir(\"/content/Dataset/train\")\n",
        "os.mkdir(\"/content/Dataset/train/Bathroom\")\n",
        "os.mkdir(\"/content/Dataset/train/Bathroom/Label\")\n",
        "os.mkdir(\"/content/Dataset/train/Bedroom\")\n",
        "os.mkdir(\"/content/Dataset/train/Bedroom/Label\")\n",
        "os.mkdir(\"/content/Dataset/train/Kitchen\")\n",
        "os.mkdir(\"/content/Dataset/train/Kitchen/Label\")\n",
        "os.mkdir(\"/content/Dataset/validation\")\n",
        "os.mkdir(\"/content/Dataset/validation/Bathroom\")\n",
        "os.mkdir(\"/content/Dataset/validation/Bathroom/Label\")\n",
        "os.mkdir(\"/content/Dataset/validation/Bedroom\")\n",
        "os.mkdir(\"/content/Dataset/validation/Bedroom/Label\")\n",
        "os.mkdir(\"/content/Dataset/validation/Kitchen\")\n",
        "os.mkdir(\"/content/Dataset/validation/Kitchen/Label\")\n",
        "\n",
        "def separate_data(folder):\n",
        "  image_names = os.listdir('/content/Dataset/' + folder)\n",
        "  label_names = os.listdir('/content/Dataset/' + folder + '/Label')\n",
        "  for label in label_names:\n",
        "    image_name = os.path.splitext(label)[0]+'.jpg'\n",
        "    if image_name not in image_names:\n",
        "      continue\n",
        "    new_folder = \"train\"\n",
        "    if (random() > 0.8):\n",
        "      new_folder = \"validation\"\n",
        "    os.rename(\"/content/Dataset/\" + folder + \"/\" + image_name, \"/content/Dataset/\" + new_folder + \"/\" + folder + \"/\" + image_name)\n",
        "    os.rename(\"/content/Dataset/\" + folder + \"/Label/\" + label, \"/content/Dataset/\" + new_folder + \"/\" + folder + \"/Label/\" + label)\n",
        "\n",
        "separate_data('Bathroom')\n",
        "separate_data('Bedroom')\n",
        "separate_data('Kitchen')"
      ],
      "execution_count": 50,
      "outputs": []
    },
    {
      "cell_type": "code",
      "metadata": {
        "id": "hzW9ILLXQBer"
      },
      "source": [
        "import shutil\n",
        "shutil.rmtree(\"/content/Dataset/test\")"
      ],
      "execution_count": 59,
      "outputs": []
    },
    {
      "cell_type": "code",
      "metadata": {
        "id": "OgvDyTi2NknD"
      },
      "source": [
        "import os\n",
        "from random import seed, random\n",
        "\n",
        "seed(123)\n",
        "os.mkdir(\"/content/Dataset/test\")\n",
        "os.mkdir(\"/content/Dataset/test/Bathroom\")\n",
        "os.mkdir(\"/content/Dataset/test/Bathroom/Label\")\n",
        "os.mkdir(\"/content/Dataset/test/Bedroom\")\n",
        "os.mkdir(\"/content/Dataset/test/Bedroom/Label\")\n",
        "os.mkdir(\"/content/Dataset/test/Kitchen\")\n",
        "os.mkdir(\"/content/Dataset/test/Kitchen/Label\")\n",
        "\n",
        "def separate_data_test(folder, parent_folder):\n",
        "  image_names = os.listdir('/content/Dataset/' + parent_folder + '/' + folder)\n",
        "  label_names = os.listdir('/content/Dataset/' + parent_folder + '/' + folder + '/Label')\n",
        "  for label in label_names:\n",
        "    image_name = os.path.splitext(label)[0]+'.jpg'\n",
        "    if image_name not in image_names:\n",
        "      continue\n",
        "    if ((parent_folder == 'train' and random() > 0.9) or (parent_folder == 'validation' and random() > 0.5)):\n",
        "      os.rename(\"/content/Dataset/\" + parent_folder + \"/\" + folder + \"/\" + image_name, \"/content/Dataset/test/\" + folder + \"/\" + image_name)\n",
        "      os.rename(\"/content/Dataset/\" + parent_folder + \"/\" + folder + \"/Label/\" + label, \"/content/Dataset/test/\" + folder + \"/Label/\" + label)\n",
        "\n",
        "separate_data_test('Bathroom', 'validation')\n",
        "separate_data_test('Bedroom', 'validation')\n",
        "separate_data_test('Kitchen', 'validation')\n",
        "separate_data_test('Bathroom', 'train')\n",
        "separate_data_test('Bedroom', 'train')\n",
        "separate_data_test('Kitchen', 'train')"
      ],
      "execution_count": 60,
      "outputs": []
    },
    {
      "cell_type": "code",
      "metadata": {
        "id": "SsYsrtUiU2Vh"
      },
      "source": [
        "!zip -r /content/dataset.zip /content/Dataset"
      ],
      "execution_count": null,
      "outputs": []
    }
  ]
}