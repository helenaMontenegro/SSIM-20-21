{
  "nbformat": 4,
  "nbformat_minor": 0,
  "metadata": {
    "colab": {
      "name": "SSIM_Final_Experiment.ipynb",
      "provenance": [],
      "collapsed_sections": []
    },
    "kernelspec": {
      "name": "python3",
      "display_name": "Python 3"
    }
  },
  "cells": [
    {
      "cell_type": "code",
      "metadata": {
        "colab": {
          "base_uri": "https://localhost:8080/"
        },
        "id": "HtsJCd4w3O2C",
        "outputId": "24f16926-1b85-44f8-b939-e8de84582c4c"
      },
      "source": [
        "from google.colab import drive\r\n",
        "drive.mount('/content/drive')"
      ],
      "execution_count": 1,
      "outputs": [
        {
          "output_type": "stream",
          "text": [
            "Mounted at /content/drive\n"
          ],
          "name": "stdout"
        }
      ]
    },
    {
      "cell_type": "code",
      "metadata": {
        "id": "mNmnr3dY3o_7"
      },
      "source": [
        "!cp -r /content/drive/My\\ Drive/New\\ Dataset /content/Dataset"
      ],
      "execution_count": 2,
      "outputs": []
    },
    {
      "cell_type": "code",
      "metadata": {
        "id": "8aTtdran3rLZ"
      },
      "source": [
        "from keras.preprocessing.image import ImageDataGenerator\r\n",
        "from keras.preprocessing import image_dataset_from_directory\r\n",
        "import matplotlib.pyplot as plt\r\n",
        "import matplotlib.cm as cm\r\n",
        "import matplotlib\r\n",
        "from tensorflow.keras.applications import VGG16\r\n",
        "from tensorflow.keras.applications.vgg16 import preprocess_input\r\n",
        "from sklearn.metrics import classification_report, confusion_matrix\r\n",
        "import tensorflow as tf\r\n",
        "from tensorflow import keras\r\n",
        "from tensorflow.keras.models import load_model, Model, Sequential\r\n",
        "from tensorflow.keras.layers import Flatten, Dense, Dropout, concatenate, LeakyReLU\r\n",
        "\r\n",
        "import random as rn\r\n",
        "import numpy as np\r\n",
        "import pandas as pd"
      ],
      "execution_count": 3,
      "outputs": []
    },
    {
      "cell_type": "code",
      "metadata": {
        "id": "Sts0pbZ83tKB"
      },
      "source": [
        "np.random.seed(42)\r\n",
        "rn.seed(12345)\r\n",
        "session_conf = tf.compat.v1.ConfigProto(intra_op_parallelism_threads=1,\r\n",
        "                              inter_op_parallelism_threads=1)\r\n",
        "tf.random.set_seed(1234)\r\n",
        "sess = tf.compat.v1.Session(graph=tf.compat.v1.get_default_graph(), config=session_conf)\r\n",
        "#K.set_session(sess)\r\n",
        "tf.compat.v1.keras.backend.set_session(sess)"
      ],
      "execution_count": 4,
      "outputs": []
    },
    {
      "cell_type": "markdown",
      "metadata": {
        "id": "4tu5DLNEiArf"
      },
      "source": [
        "**Load data**\r\n",
        "\r\n",
        "Load train data."
      ]
    },
    {
      "cell_type": "code",
      "metadata": {
        "colab": {
          "base_uri": "https://localhost:8080/"
        },
        "id": "peKQz4MchtCG",
        "outputId": "208686ec-74b3-47c2-d068-e3927e53fc74"
      },
      "source": [
        "train_image_datagen = ImageDataGenerator(\r\n",
        "  preprocessing_function=preprocess_input,\r\n",
        "  rescale=1./255\r\n",
        ")\r\n",
        "batchsize = 380\r\n",
        "train_image_generator = train_image_datagen.flow_from_directory(\r\n",
        "  directory = \"/content/Dataset/train\",\r\n",
        "  target_size = (256, 256),\r\n",
        "  batch_size = batchsize,\r\n",
        "  shuffle = False,\r\n",
        "  class_mode = 'categorical'\r\n",
        ")\r\n",
        "\r\n",
        "train_images, train_labels = next(train_image_generator)\r\n",
        "\r\n",
        "# Get images order\r\n",
        "image_files = pd.Series(train_image_generator.filenames)\r\n",
        "image_files = list(image_files.str[:-4])\r\n",
        "print(image_files)\r\n",
        "\r\n",
        "# Sort tabular data\r\n",
        "train_tabular_data = pd.read_csv('train_data.csv')\r\n",
        "train_tabular_data = train_tabular_data.sort_values('Id')\r\n",
        "print(train_tabular_data.head())\r\n",
        "train_tabular_data = train_tabular_data.drop(['Id'], axis=1)\r\n",
        "print(train_tabular_data.head())"
      ],
      "execution_count": 6,
      "outputs": [
        {
          "output_type": "stream",
          "text": [
            "Found 380 images belonging to 3 classes.\n",
            "['Bathroom/007db7e01f3941d2', 'Bathroom/00b8c7642d98fedf', 'Bathroom/00bf3b7340ae0a9f', 'Bathroom/015484347eacc20d', 'Bathroom/0168686b82b426e2', 'Bathroom/01bca544d1768a84', 'Bathroom/02a945cc2b6f4daf', 'Bathroom/02c773a25a15f7cd', 'Bathroom/0303fb65c4c9a7e1', 'Bathroom/0365d8d1d967a2fc', 'Bathroom/036b5adbc5c06df2', 'Bathroom/0416d14707884715', 'Bathroom/0567c0fbc7387c23', 'Bathroom/078e2e18f0e748ce', 'Bathroom/07c65844865ad91f', 'Bathroom/0816a46ef71fa4c3', 'Bathroom/089d0bc3ec234cb0', 'Bathroom/09542b695d7802a5', 'Bathroom/0b0803480232cf3e', 'Bathroom/0ba97be2c7011295', 'Bathroom/0be49fe17e959264', 'Bathroom/0bf06163bd011f7f', 'Bathroom/0c71c87e710acf06', 'Bathroom/0d78b275aa2d01ed', 'Bathroom/0e1b7b2038436056', 'Bathroom/0ece5b3baf9dc5c2', 'Bathroom/10085be0a892b552', 'Bathroom/107d06238ba3e314', 'Bathroom/10c08673bb67eb04', 'Bathroom/13bb7f5603f0aa4c', 'Bathroom/16ca9aa7cf522c51', 'Bathroom/1706c70c0576fc2f', 'Bathroom/1797c012d8d18a4e', 'Bathroom/17d21905e2c50754', 'Bathroom/19e50244dbe54fd9', 'Bathroom/1a5c154b9baae857', 'Bathroom/1ac142eaf9e17602', 'Bathroom/1b11df390fede604', 'Bathroom/1c7b81697c24d8b0', 'Bathroom/1c917fc8253010c7', 'Bathroom/1ca5ca2c4bf58521', 'Bathroom/1d76fc587c031c36', 'Bathroom/1f2d7bab6a49881a', 'Bathroom/239ba76d1b73e06e', 'Bathroom/253400a7957b4bd4', 'Bathroom/272cd4ebdf272963', 'Bathroom/2735b00feb6ca020', 'Bathroom/274448c47e66ad58', 'Bathroom/28201a8dd93aa481', 'Bathroom/29404a0f634ab198', 'Bathroom/29b00459b6b7a643', 'Bathroom/2ab61de9e8192e9b', 'Bathroom/2ad6b9ec1a7b357c', 'Bathroom/2aedc811474cdecd', 'Bathroom/2b31b2002a1bcee9', 'Bathroom/2b7f69a3cf819619', 'Bathroom/2da75f6335928609', 'Bathroom/2ed6d8718ca98c17', 'Bathroom/33a7ecbaa393391e', 'Bathroom/33fffa4bd99ffee0', 'Bathroom/35ab889754c1a08e', 'Bathroom/3678595f2ad4c14d', 'Bathroom/39c4f8f618b0a79d', 'Bathroom/39cc8c770e0b6e23', 'Bathroom/3a762921998045e1', 'Bathroom/3bead85bd09972fe', 'Bathroom/41a4051ecbe8b1d9', 'Bathroom/42298c9659ce6603', 'Bathroom/4768884ed678d9b5', 'Bathroom/50e4a792b11b58ab', 'Bathroom/541f3a7b19a92384', 'Bathroom/57998d922b4ddf3d', 'Bathroom/584110c20a4695d9', 'Bathroom/5b93d7f1ece2da6c', 'Bathroom/6be310892c84cd63', 'Bathroom/6c28e25221f79352', 'Bathroom/6d73b19d38bc5da6', 'Bathroom/759c6ad3534e454d', 'Bathroom/789cc0283c0e18af', 'Bathroom/79a439d015a68b96', 'Bathroom/7a5e8dcc020f3d6e', 'Bathroom/7bbea10515d5c0e8', 'Bathroom/7c92533a00b93573', 'Bathroom/805d2f6bfb4f5cba', 'Bathroom/82ce9aa1b5dddbd3', 'Bathroom/83dacdd5b2f6b3ac', 'Bathroom/870b5390647d7334', 'Bathroom/88235844ed67df6b', 'Bathroom/8872b7b84675a3c3', 'Bathroom/889b637a70677371', 'Bathroom/88bd2c8fa95489a8', 'Bathroom/895f12ea6424a8b8', 'Bathroom/8c4fdf6c653b2dfa', 'Bathroom/8dc3f2b49ac59eb9', 'Bathroom/8f6975b5dff66a1c', 'Bathroom/92419faaab8704a3', 'Bathroom/938650fe9135f7c9', 'Bathroom/95d5ca4b41600b68', 'Bathroom/96b7c5c6d0bcec98', 'Bathroom/9fa5578fb2936944', 'Bathroom/a36b97b5d02bcfe1', 'Bathroom/a577e4b339f721ec', 'Bathroom/a9db35ec9ae04f5a', 'Bathroom/abc964a692131ffd', 'Bathroom/ac085b153d9f86f3', 'Bathroom/b0d2b23e20f5f17a', 'Bathroom/b99828fde655be90', 'Bathroom/bd124d8770e781b5', 'Bathroom/bd354d5f2db15b31', 'Bathroom/bf51f30c43135ced', 'Bathroom/bfa52117d2d72a92', 'Bathroom/c0074b01873eaff2', 'Bathroom/c305409b654b9a55', 'Bathroom/c5d4ebcdbff626e6', 'Bathroom/ca8d1d7724023bc1', 'Bathroom/cacb65ba29cc6999', 'Bathroom/d4d56be42630113c', 'Bathroom/d64663ae54c86ebf', 'Bathroom/d6c4ef4e80b239a2', 'Bathroom/d7e4c38d9e02e13e', 'Bathroom/de867222aa316b50', 'Bathroom/df4c3b33cc693d02', 'Bathroom/df6efe4d6822345b', 'Bathroom/e005193f9a9c5e78', 'Bathroom/e084d551e095a2e6', 'Bathroom/e466f02a20f05255', 'Bathroom/e592d4bdd8898e16', 'Bathroom/e6130ea33f1135c3', 'Bathroom/f089e8783afb9731', 'Bathroom/f54e3c8eb90597b0', 'Bathroom/f80b3c2857780ba9', 'Bathroom/fe2643120ad171f8', 'Bathroom/ff750ffb8ba2db7c', 'Bedroom/00f03ff0eee0b5a3', 'Bedroom/015fece59b820f4d', 'Bedroom/02a74181f8a40679', 'Bedroom/0348ac252d422b01', 'Bedroom/037589768556e2f2', 'Bedroom/03c361bef79191b7', 'Bedroom/03e4dd0a6c7a8da0', 'Bedroom/040f7caee109ab4b', 'Bedroom/041966e5a2e2b171', 'Bedroom/04f4d71d477c261b', 'Bedroom/04f54b260fba9836', 'Bedroom/0514d9c47afe5aa3', 'Bedroom/057937c705b0a068', 'Bedroom/05c3ac11049b8c07', 'Bedroom/05c6d91be7bbe4e0', 'Bedroom/06a1b42ff10a797c', 'Bedroom/06b1fe8fb9939320', 'Bedroom/07345a76f2e01289', 'Bedroom/07661adce4bce6f3', 'Bedroom/09e25bfab879cc63', 'Bedroom/0a6bc386b28f2aac', 'Bedroom/0a8156bd580e0735', 'Bedroom/0e02bd4940259ef5', 'Bedroom/0f3d33496ac15db3', 'Bedroom/0fd2749001aae043', 'Bedroom/1037d6fd93f8b6cd', 'Bedroom/10b44e9a6114d7af', 'Bedroom/10e090b3b0a90c7d', 'Bedroom/12538c3d07abc46f', 'Bedroom/13614cdc111deb33', 'Bedroom/14ee9fce02bb7c46', 'Bedroom/174975aa35221183', 'Bedroom/1866b74f1e0251e4', 'Bedroom/1b4625dc2ae401f0', 'Bedroom/1f6d040583d081ec', 'Bedroom/26fafb6492e7c495', 'Bedroom/2aa0fc5fd446bc5a', 'Bedroom/2c438ba69023be9a', 'Bedroom/2df2f2249309eeac', 'Bedroom/2ff51a0fcec50f88', 'Bedroom/3003b071757333a4', 'Bedroom/3525cf9a1fae75dd', 'Bedroom/37e8930607fd5058', 'Bedroom/37ff506923d56974', 'Bedroom/3a2b980406d7499e', 'Bedroom/3bf82fc974f2c006', 'Bedroom/3fb5e100e9962553', 'Bedroom/408bfc9875660552', 'Bedroom/44167b13e878ee25', 'Bedroom/46c0d9150e908fa5', 'Bedroom/4b1855ae0bb3f804', 'Bedroom/4d737aa19cbc86e6', 'Bedroom/4db2eb1261aaec05', 'Bedroom/4f7cd71e3ddeb7e7', 'Bedroom/536fb55c0810af24', 'Bedroom/54c9377f3a57cc46', 'Bedroom/5811c2f1cdf89ebc', 'Bedroom/588ba1613aa45b85', 'Bedroom/5ebc104d9d7f872c', 'Bedroom/5f5d89349c64491f', 'Bedroom/60f5f7ca3ba09735', 'Bedroom/62d1fd92c49db70c', 'Bedroom/6338c5d6ee8bfce9', 'Bedroom/64f61887da9db716', 'Bedroom/654c670fd93a9392', 'Bedroom/666a614b3123dff9', 'Bedroom/68907defc0c961e1', 'Bedroom/6a9ce7a7b5f39787', 'Bedroom/6aaa0855fc73d30a', 'Bedroom/6bfd65af476cd193', 'Bedroom/6c3ba7b8844e1ab5', 'Bedroom/6c75a3d82722a558', 'Bedroom/6db27320d4807c09', 'Bedroom/7188156925738c50', 'Bedroom/767e343a4ed08da3', 'Bedroom/772ebe1e4aee175c', 'Bedroom/7bb6b15321d03257', 'Bedroom/7c7ef471d10c96bb', 'Bedroom/7e25d0b92a0a552e', 'Bedroom/7f40815def1213fc', 'Bedroom/8046f990e83fa1a9', 'Bedroom/81eb70cd87fc5bb7', 'Bedroom/83ac29a2c55adec0', 'Bedroom/857ead1c1ed7323e', 'Bedroom/89ebcbedd53b8e9b', 'Bedroom/8a2edaa67e4b5c89', 'Bedroom/8bba4f1e0bd58993', 'Bedroom/910d96da20fdbf86', 'Bedroom/94a28a91606fca82', 'Bedroom/9542c109fb24d650', 'Bedroom/954866d05090f3c3', 'Bedroom/961088f3eeacb4d6', 'Bedroom/9a5c628882842673', 'Bedroom/9d8277e68c7a742c', 'Bedroom/a1e8ff6e0a10fb3b', 'Bedroom/a4ae08b0b2490c1c', 'Bedroom/a7f80ae609f9ec84', 'Bedroom/a92113b2150cbc53', 'Bedroom/aa0621fe489d5fb6', 'Bedroom/aae5f9ae9ea62b13', 'Bedroom/afacfc5418cd4f5a', 'Bedroom/b0968a3481595833', 'Bedroom/b10532ff45971fff', 'Bedroom/b16d376593523271', 'Bedroom/b27d49e01147e6d0', 'Bedroom/b5f7b2aa13abe836', 'Bedroom/b6db7559515927ef', 'Bedroom/b8a1ea87d111404d', 'Bedroom/b8abbb92c6ccd145', 'Bedroom/b9e8bb9b4143a416', 'Bedroom/bac6baeb900b6bbb', 'Bedroom/bc651083c9af7b89', 'Bedroom/c6bd690a01336315', 'Bedroom/c7b116f2c0688794', 'Bedroom/cd2ded9ae21c7f0e', 'Bedroom/ce442e81fded4107', 'Bedroom/cecb4e3e4dc73c94', 'Bedroom/d368abda0a810957', 'Bedroom/d4c678446ac62cc1', 'Bedroom/da65cf99b09a0b1e', 'Bedroom/dbc25923981590f4', 'Bedroom/e182b03bf41d49c5', 'Bedroom/e2089d2390b6031c', 'Bedroom/e56974045a619d00', 'Bedroom/e6d2177c64f8ff20', 'Bedroom/e6e594c3a0a5f553', 'Bedroom/eb4f027e524f2997', 'Bedroom/efa1583a01464639', 'Bedroom/f258e76e0b1795a8', 'Bedroom/f43c4a7b26add962', 'Bedroom/f4c379dddb46390f', 'Bedroom/f57efc76dfd7d169', 'Bedroom/f866d4c2469424ac', 'Bedroom/ffb716498f082103', 'Kitchen/0023dce3438b89c5', 'Kitchen/0047d66879464151', 'Kitchen/0118064eedc2b2c1', 'Kitchen/0146a6b07d6b3160', 'Kitchen/02c37cca4253f49f', 'Kitchen/034009bc1203f842', 'Kitchen/03c440bd813f8b26', 'Kitchen/05f98613a5f083d6', 'Kitchen/06bb52a7df77556d', 'Kitchen/06efd28ab5fbc1ef', 'Kitchen/09b009f7e38ce804', 'Kitchen/0a21bebc0dd5c137', 'Kitchen/0b2f718b4b284314', 'Kitchen/0d8cf2541deb7f77', 'Kitchen/0e608b589d55fc83', 'Kitchen/0f63b4f011d2df25', 'Kitchen/0fb91bd32b39649d', 'Kitchen/10087b4a29033528', 'Kitchen/10148070b0457460', 'Kitchen/11739cf765a3f3d5', 'Kitchen/126b61892259c81b', 'Kitchen/15aec83a53930ee1', 'Kitchen/185175594b121824', 'Kitchen/188c2d68052cc7b7', 'Kitchen/1c11f389a2f2673a', 'Kitchen/1c2868141487ec3c', 'Kitchen/1c982d27b6c36e2f', 'Kitchen/1cb3056e0bac0d2e', 'Kitchen/1ebc14a30165c73a', 'Kitchen/20755e349ac81f0c', 'Kitchen/226ca7062160972c', 'Kitchen/233e41a2f2f4b6ae', 'Kitchen/235fdb5d486a95a9', 'Kitchen/263523d1754e3381', 'Kitchen/27e7b4b11cad3557', 'Kitchen/2b301b7bbec2ac71', 'Kitchen/2bedf10fd4f91cb5', 'Kitchen/2f867b43c4e0a7a6', 'Kitchen/2fac827679f2b700', 'Kitchen/30860ef22c56e194', 'Kitchen/3209c0aeb2ab6b62', 'Kitchen/32ac0b66a7d08de3', 'Kitchen/377c766f64c37340', 'Kitchen/37b67c90f943af23', 'Kitchen/386644a72691a05a', 'Kitchen/397841a27847b8fb', 'Kitchen/3d94428eaf8808c2', 'Kitchen/41d50da104d76a61', 'Kitchen/436f7609041323f4', 'Kitchen/4560bd6948c37f85', 'Kitchen/470c4a32fb744c46', 'Kitchen/49b21b3d30cad7ee', 'Kitchen/4aebe09915889964', 'Kitchen/4e4ecaaaeb0eda1e', 'Kitchen/4ece6c92c9c19df3', 'Kitchen/5280a2feff193b85', 'Kitchen/5369a081c4f33ac3', 'Kitchen/54747437a1be9c7a', 'Kitchen/568f7fac6918aa6b', 'Kitchen/58104a3fa20b4031', 'Kitchen/58c6512ed835a1db', 'Kitchen/58f909b85dc61115', 'Kitchen/598ce21cc779ff81', 'Kitchen/5f2598a968b2dd97', 'Kitchen/5f78d4e7c8235254', 'Kitchen/5f7aaeaaa61067f4', 'Kitchen/603dd33e938d9611', 'Kitchen/645e026b12b6d001', 'Kitchen/650a4f170cfed8ae', 'Kitchen/671732f697b25730', 'Kitchen/6eb2f600fdef4d5b', 'Kitchen/6f54984a8efcf958', 'Kitchen/717ccd7e5deaf318', 'Kitchen/71d21aa1d5b986e3', 'Kitchen/71f33fb571717d6f', 'Kitchen/72629128427cf83c', 'Kitchen/7749d3d4904ce2c7', 'Kitchen/7771c64fca6089d2', 'Kitchen/77eaad79705a0061', 'Kitchen/7ace059a9ec669aa', 'Kitchen/7ad5584aa00e667f', 'Kitchen/7b0112f7f5f096c5', 'Kitchen/7df89eb120a7f522', 'Kitchen/7e2f8c24b086d39f', 'Kitchen/80c3b1e81ef70e78', 'Kitchen/82af8ecf17d42a78', 'Kitchen/838bca0323ce374d', 'Kitchen/88748156b5bf3d8b', 'Kitchen/895f12ea6424a8b8', 'Kitchen/8aebf99122a9f9c4', 'Kitchen/8f24ccd5d86243b5', 'Kitchen/9133b173feb0a59a', 'Kitchen/9665af9068ea95a5', 'Kitchen/96d397eb7bdb5014', 'Kitchen/975da8e742d8250d', 'Kitchen/9a7fe235c1ffee42', 'Kitchen/a2eb27330f078f0b', 'Kitchen/a4de535aa7420cca', 'Kitchen/ac29c3e05564a1c0', 'Kitchen/ac9accdfcfa6aa32', 'Kitchen/b11dc1515c647e32', 'Kitchen/b52b11559bb34336', 'Kitchen/b7d556b0a49a22bf', 'Kitchen/bfd2cbc2847ead5c', 'Kitchen/c063f06ed94237f2', 'Kitchen/c2ee6842aa012389', 'Kitchen/c8df496e8c179139', 'Kitchen/c978163d550c51ae', 'Kitchen/cb9bb228b5209e45', 'Kitchen/cfa5389b9eeba8f1', 'Kitchen/d26a9cd5c111ad7d', 'Kitchen/d823cfc99fa2a2dd', 'Kitchen/d9284c51199e9ec8']\n",
            "                           Id  Bathtub  Bed  ...  Sink  Toilet  Window\n",
            "34  Bathroom/007db7e01f3941d2        0    0  ...     1       0       0\n",
            "0   Bathroom/00b8c7642d98fedf        0    0  ...     0       1       0\n",
            "1   Bathroom/00bf3b7340ae0a9f        0    0  ...     0       1       0\n",
            "98  Bathroom/015484347eacc20d        0    0  ...     0       2       0\n",
            "91  Bathroom/0168686b82b426e2        0    0  ...     0       2       0\n",
            "\n",
            "[5 rows x 8 columns]\n",
            "    Bathtub  Bed  Oven  Refrigerator  Sink  Toilet  Window\n",
            "34        0    0     0             0     1       0       0\n",
            "0         0    0     0             0     0       1       0\n",
            "1         0    0     0             0     0       1       0\n",
            "98        0    0     0             0     0       2       0\n",
            "91        0    0     0             0     0       2       0\n"
          ],
          "name": "stdout"
        }
      ]
    },
    {
      "cell_type": "markdown",
      "metadata": {
        "id": "8DB1cMut8ReE"
      },
      "source": [
        "Load validation data."
      ]
    },
    {
      "cell_type": "code",
      "metadata": {
        "colab": {
          "base_uri": "https://localhost:8080/"
        },
        "id": "YpAkq9FDsWsF",
        "outputId": "a7c10583-0060-470f-9cec-feb9bf39c38b"
      },
      "source": [
        "valid_image_datagen = ImageDataGenerator(\r\n",
        "  preprocessing_function=preprocess_input,\r\n",
        "  rescale=1./255\r\n",
        ")\r\n",
        "batchsize = 63\r\n",
        "valid_image_generator = valid_image_datagen.flow_from_directory(\r\n",
        "  directory = \"/content/Dataset/validation\",\r\n",
        "  target_size = (256, 256),\r\n",
        "  batch_size = batchsize,\r\n",
        "  shuffle = False,\r\n",
        "  class_mode = 'categorical'\r\n",
        ")\r\n",
        "\r\n",
        "valid_images, valid_labels = next(valid_image_generator)\r\n",
        "\r\n",
        "# Get images order\r\n",
        "image_files = pd.Series(valid_image_generator.filenames)\r\n",
        "image_files = list(image_files.str[:-4])\r\n",
        "print(image_files)\r\n",
        "\r\n",
        "# Sort tabular data\r\n",
        "valid_tabular_data = pd.read_csv('validation_data.csv')\r\n",
        "valid_tabular_data = valid_tabular_data.sort_values('Id')\r\n",
        "print(valid_tabular_data.head())\r\n",
        "valid_tabular_data = valid_tabular_data.drop(['Id'], axis=1)\r\n",
        "print(valid_tabular_data.head())"
      ],
      "execution_count": 7,
      "outputs": [
        {
          "output_type": "stream",
          "text": [
            "Found 63 images belonging to 3 classes.\n",
            "['Bathroom/02e40117749a7324', 'Bathroom/09025e8df61fa4d2', 'Bathroom/0dd28180c8b06ac1', 'Bathroom/0ffc7dc38427be4d', 'Bathroom/1680badd9e14c39c', 'Bathroom/1b80f8d3658d5146', 'Bathroom/1feee75d0cd8b08c', 'Bathroom/2eb5f812b486c547', 'Bathroom/310e83a9b625b44a', 'Bathroom/3db7cd79c0d280ca', 'Bathroom/40e3252f39eee5d3', 'Bathroom/416afb9920bce870', 'Bathroom/4ace71b7fc371125', 'Bathroom/539e0871494dea5d', 'Bathroom/6083d38479f8629a', 'Bathroom/87a2efb71f01196a', 'Bathroom/903863dca3cf21fa', 'Bathroom/9526a7f097f44677', 'Bathroom/9786143f704f76ae', 'Bathroom/df9e7b020cfcd77f', 'Bathroom/f9121ce29187360b', 'Bedroom/0321c2f0d50671e8', 'Bedroom/06d231feb0e1f7ed', 'Bedroom/09c96a274fd701f7', 'Bedroom/2135873468f50b33', 'Bedroom/221060fddd44f93e', 'Bedroom/2248eecea69fedc3', 'Bedroom/2f815007d760d135', 'Bedroom/44e4c2e081894be1', 'Bedroom/5400c9e9f81e834b', 'Bedroom/5e2fbec160429df4', 'Bedroom/630e16cede80c59c', 'Bedroom/7faf63a0d79ab8df', 'Bedroom/82ebc6a99f41f24c', 'Bedroom/87ba23843a5477cb', 'Bedroom/91bf748ab4455715', 'Bedroom/92e26be52b8cde88', 'Bedroom/9a600aae8c04f928', 'Bedroom/b833ff7e8c121fd4', 'Kitchen/00ca2179c6ccfc86', 'Kitchen/0113ec7595f6a58f', 'Kitchen/0896f7f8ba671953', 'Kitchen/12e97595bc50d9b9', 'Kitchen/12f7b3c0ca7edbfb', 'Kitchen/14f1c18a90a622b4', 'Kitchen/1529630afc3d553c', 'Kitchen/159dd40a40630821', 'Kitchen/163bb8d48332438f', 'Kitchen/2b87c3313f02f803', 'Kitchen/3b13202f27cdc895', 'Kitchen/41a69e1ac4cd5452', 'Kitchen/49f7e61e228d3311', 'Kitchen/5046db05b4f87fea', 'Kitchen/575c964415275bd0', 'Kitchen/5b61fbd4d345a769', 'Kitchen/77e28f92cff14e25', 'Kitchen/a6c6115e92b59fca', 'Kitchen/a83b50041535fbbd', 'Kitchen/aeb46fa6f2ebc8cf', 'Kitchen/bb186ab592f4845a', 'Kitchen/d3b4109c35d213ac', 'Kitchen/d87f2ce076230974', 'Kitchen/ee1073e40f942e8d']\n",
            "                           Id  Bathtub  Bed  ...  Sink  Toilet  Window\n",
            "4   Bathroom/02e40117749a7324        0    0  ...     1       0       0\n",
            "15  Bathroom/09025e8df61fa4d2        0    0  ...     0       1       0\n",
            "0   Bathroom/0dd28180c8b06ac1        0    0  ...     0       1       0\n",
            "1   Bathroom/0ffc7dc38427be4d        0    0  ...     0       1       0\n",
            "13  Bathroom/1680badd9e14c39c        0    0  ...     0       1       0\n",
            "\n",
            "[5 rows x 8 columns]\n",
            "    Bathtub  Bed  Oven  Refrigerator  Sink  Toilet  Window\n",
            "4         0    0     0             0     1       0       0\n",
            "15        0    0     0             0     0       1       0\n",
            "0         0    0     0             0     0       1       0\n",
            "1         0    0     0             0     0       1       0\n",
            "13        0    0     0             0     0       1       0\n"
          ],
          "name": "stdout"
        }
      ]
    },
    {
      "cell_type": "markdown",
      "metadata": {
        "id": "--6XsjPchaDK"
      },
      "source": [
        "**Model Definition**\r\n",
        "\r\n",
        "Define individual models for extracting features in images (CNN model) and for extracting features from tabular data (MLP model)."
      ]
    },
    {
      "cell_type": "code",
      "metadata": {
        "id": "_FKZM3aAKQ-6"
      },
      "source": [
        "def create_cnn():\r\n",
        "  vgg_model = VGG16(weights='imagenet', include_top=False, input_shape=(256, 256, 3))\r\n",
        "  for layer in vgg_model.layers:\r\n",
        "    layer.trainable = False\r\n",
        "  vgg_model.trainable = False\r\n",
        "  x = Flatten(name=\"flatten\")(vgg_model.output)\r\n",
        "  x = Dense(32)(x)\r\n",
        "  x = LeakyReLU(alpha=0.3)(x)\r\n",
        "  x = Dropout(0.5)(x)\r\n",
        "  x = Dense(4)(x)\r\n",
        "  x = LeakyReLU(alpha=0.3)(x)\r\n",
        "\r\n",
        "  cnn_model = Model(vgg_model.input, x)\r\n",
        "  return cnn_model\r\n",
        "\r\n",
        "def create_mlp(dim):\r\n",
        "    mlp_model = Sequential()\r\n",
        "    mlp_model.add(Dense(8, input_dim=dim))\r\n",
        "    mlp_model.add(LeakyReLU(alpha=0.3))\r\n",
        "    mlp_model.add(Dense(4))\r\n",
        "    mlp_model.add(LeakyReLU(alpha=0.3))\r\n",
        "    return mlp_model"
      ],
      "execution_count": 8,
      "outputs": []
    },
    {
      "cell_type": "markdown",
      "metadata": {
        "id": "a5u-rVvkhpDR"
      },
      "source": [
        "Build concatenated model."
      ]
    },
    {
      "cell_type": "code",
      "metadata": {
        "colab": {
          "base_uri": "https://localhost:8080/"
        },
        "id": "D5p6SuUCekyK",
        "outputId": "4396078e-bec6-48b5-e2db-fb437ea7c622"
      },
      "source": [
        "cnn_model = create_cnn()\r\n",
        "mlp_model = create_mlp(train_tabular_data.shape[1])\r\n",
        "\r\n",
        "concat_model = concatenate([mlp_model.output, cnn_model.output])\r\n",
        "\r\n",
        "classification_model = Dense(8, activation=\"relu\")(concat_model)\r\n",
        "classification_model = Dropout(0.25)(classification_model)\r\n",
        "classification_model = Dense(3, activation=\"softmax\")(classification_model)\r\n",
        "\r\n",
        "model = Model(inputs=[mlp_model.input, cnn_model.input], outputs=classification_model)\r\n",
        "\r\n",
        "model.compile(\r\n",
        "      optimizer=keras.optimizers.Adam(lr=1e-4),\r\n",
        "      loss=keras.losses.categorical_crossentropy,\r\n",
        "      metrics=['accuracy'])\r\n",
        "\r\n",
        "model.summary()"
      ],
      "execution_count": 19,
      "outputs": [
        {
          "output_type": "stream",
          "text": [
            "Model: \"model_11\"\n",
            "__________________________________________________________________________________________________\n",
            "Layer (type)                    Output Shape         Param #     Connected to                     \n",
            "==================================================================================================\n",
            "input_6 (InputLayer)            [(None, 256, 256, 3) 0                                            \n",
            "__________________________________________________________________________________________________\n",
            "block1_conv1 (Conv2D)           (None, 256, 256, 64) 1792        input_6[0][0]                    \n",
            "__________________________________________________________________________________________________\n",
            "block1_conv2 (Conv2D)           (None, 256, 256, 64) 36928       block1_conv1[0][0]               \n",
            "__________________________________________________________________________________________________\n",
            "block1_pool (MaxPooling2D)      (None, 128, 128, 64) 0           block1_conv2[0][0]               \n",
            "__________________________________________________________________________________________________\n",
            "block2_conv1 (Conv2D)           (None, 128, 128, 128 73856       block1_pool[0][0]                \n",
            "__________________________________________________________________________________________________\n",
            "block2_conv2 (Conv2D)           (None, 128, 128, 128 147584      block2_conv1[0][0]               \n",
            "__________________________________________________________________________________________________\n",
            "block2_pool (MaxPooling2D)      (None, 64, 64, 128)  0           block2_conv2[0][0]               \n",
            "__________________________________________________________________________________________________\n",
            "block3_conv1 (Conv2D)           (None, 64, 64, 256)  295168      block2_pool[0][0]                \n",
            "__________________________________________________________________________________________________\n",
            "block3_conv2 (Conv2D)           (None, 64, 64, 256)  590080      block3_conv1[0][0]               \n",
            "__________________________________________________________________________________________________\n",
            "block3_conv3 (Conv2D)           (None, 64, 64, 256)  590080      block3_conv2[0][0]               \n",
            "__________________________________________________________________________________________________\n",
            "block3_pool (MaxPooling2D)      (None, 32, 32, 256)  0           block3_conv3[0][0]               \n",
            "__________________________________________________________________________________________________\n",
            "block4_conv1 (Conv2D)           (None, 32, 32, 512)  1180160     block3_pool[0][0]                \n",
            "__________________________________________________________________________________________________\n",
            "block4_conv2 (Conv2D)           (None, 32, 32, 512)  2359808     block4_conv1[0][0]               \n",
            "__________________________________________________________________________________________________\n",
            "block4_conv3 (Conv2D)           (None, 32, 32, 512)  2359808     block4_conv2[0][0]               \n",
            "__________________________________________________________________________________________________\n",
            "block4_pool (MaxPooling2D)      (None, 16, 16, 512)  0           block4_conv3[0][0]               \n",
            "__________________________________________________________________________________________________\n",
            "block5_conv1 (Conv2D)           (None, 16, 16, 512)  2359808     block4_pool[0][0]                \n",
            "__________________________________________________________________________________________________\n",
            "block5_conv2 (Conv2D)           (None, 16, 16, 512)  2359808     block5_conv1[0][0]               \n",
            "__________________________________________________________________________________________________\n",
            "block5_conv3 (Conv2D)           (None, 16, 16, 512)  2359808     block5_conv2[0][0]               \n",
            "__________________________________________________________________________________________________\n",
            "block5_pool (MaxPooling2D)      (None, 8, 8, 512)    0           block5_conv3[0][0]               \n",
            "__________________________________________________________________________________________________\n",
            "flatten (Flatten)               (None, 32768)        0           block5_pool[0][0]                \n",
            "__________________________________________________________________________________________________\n",
            "dense_32_input (InputLayer)     [(None, 7)]          0                                            \n",
            "__________________________________________________________________________________________________\n",
            "dense_30 (Dense)                (None, 32)           1048608     flatten[0][0]                    \n",
            "__________________________________________________________________________________________________\n",
            "dense_32 (Dense)                (None, 8)            64          dense_32_input[0][0]             \n",
            "__________________________________________________________________________________________________\n",
            "leaky_re_lu_20 (LeakyReLU)      (None, 32)           0           dense_30[0][0]                   \n",
            "__________________________________________________________________________________________________\n",
            "leaky_re_lu_22 (LeakyReLU)      (None, 8)            0           dense_32[0][0]                   \n",
            "__________________________________________________________________________________________________\n",
            "dropout_10 (Dropout)            (None, 32)           0           leaky_re_lu_20[0][0]             \n",
            "__________________________________________________________________________________________________\n",
            "dense_33 (Dense)                (None, 4)            36          leaky_re_lu_22[0][0]             \n",
            "__________________________________________________________________________________________________\n",
            "dense_31 (Dense)                (None, 4)            132         dropout_10[0][0]                 \n",
            "__________________________________________________________________________________________________\n",
            "leaky_re_lu_23 (LeakyReLU)      (None, 4)            0           dense_33[0][0]                   \n",
            "__________________________________________________________________________________________________\n",
            "leaky_re_lu_21 (LeakyReLU)      (None, 4)            0           dense_31[0][0]                   \n",
            "__________________________________________________________________________________________________\n",
            "concatenate_5 (Concatenate)     (None, 8)            0           leaky_re_lu_23[0][0]             \n",
            "                                                                 leaky_re_lu_21[0][0]             \n",
            "__________________________________________________________________________________________________\n",
            "dense_34 (Dense)                (None, 8)            72          concatenate_5[0][0]              \n",
            "__________________________________________________________________________________________________\n",
            "dropout_11 (Dropout)            (None, 8)            0           dense_34[0][0]                   \n",
            "__________________________________________________________________________________________________\n",
            "dense_35 (Dense)                (None, 3)            27          dropout_11[0][0]                 \n",
            "==================================================================================================\n",
            "Total params: 15,763,627\n",
            "Trainable params: 1,048,939\n",
            "Non-trainable params: 14,714,688\n",
            "__________________________________________________________________________________________________\n"
          ],
          "name": "stdout"
        }
      ]
    },
    {
      "cell_type": "markdown",
      "metadata": {
        "id": "tKmmZv1uzvzi"
      },
      "source": [
        "**Training**\r\n",
        "\r\n",
        "Apply weights to balance data."
      ]
    },
    {
      "cell_type": "code",
      "metadata": {
        "id": "ej7T6md-zdGa"
      },
      "source": [
        "def get_class_weight():\r\n",
        "  bathroom = 133\r\n",
        "  bedroom = 134\r\n",
        "  kitchen = 113\r\n",
        "  total = bathroom + bedroom + kitchen\r\n",
        "  class_weight = {0: total / bathroom, 1: total / bedroom, 2: total / kitchen}\r\n",
        "  return class_weight"
      ],
      "execution_count": 10,
      "outputs": []
    },
    {
      "cell_type": "markdown",
      "metadata": {
        "id": "wFBFneknz3E1"
      },
      "source": [
        "Train model."
      ]
    },
    {
      "cell_type": "code",
      "metadata": {
        "colab": {
          "base_uri": "https://localhost:8080/"
        },
        "id": "9tw6eqgvyztM",
        "outputId": "97851378-5961-4785-dba8-6261bbecd8a3"
      },
      "source": [
        "checkpoint = tf.keras.callbacks.ModelCheckpoint('vgg_{epoch:03d}.h5', monitor='val_accuracy', verbose=1, save_best_only=False, save_freq='epoch')\r\n",
        "early_stopping = tf.keras.callbacks.EarlyStopping(monitor='val_loss', patience=20, verbose=1, mode='min')\r\n",
        "\r\n",
        "training = model.fit(\r\n",
        "  [train_tabular_data, train_images], \r\n",
        "  train_labels,\r\n",
        "  callbacks=[checkpoint, early_stopping],\r\n",
        "  validation_data=([valid_tabular_data, valid_images], valid_labels), \r\n",
        "  epochs=100, \r\n",
        "  batch_size=10,\r\n",
        "  class_weight=get_class_weight(),\r\n",
        "  verbose=1,\r\n",
        ")"
      ],
      "execution_count": 20,
      "outputs": [
        {
          "output_type": "stream",
          "text": [
            "Epoch 1/100\n",
            "38/38 [==============================] - 4s 87ms/step - loss: 3.2517 - accuracy: 0.3537 - val_loss: 1.0486 - val_accuracy: 0.3810\n",
            "\n",
            "Epoch 00001: saving model to vgg_001.h5\n",
            "Epoch 2/100\n",
            "38/38 [==============================] - 3s 80ms/step - loss: 3.1178 - accuracy: 0.4266 - val_loss: 0.9776 - val_accuracy: 0.5714\n",
            "\n",
            "Epoch 00002: saving model to vgg_002.h5\n",
            "Epoch 3/100\n",
            "38/38 [==============================] - 3s 80ms/step - loss: 2.9155 - accuracy: 0.4540 - val_loss: 0.8970 - val_accuracy: 0.5556\n",
            "\n",
            "Epoch 00003: saving model to vgg_003.h5\n",
            "Epoch 4/100\n",
            "38/38 [==============================] - 3s 80ms/step - loss: 2.8722 - accuracy: 0.4880 - val_loss: 0.8381 - val_accuracy: 0.6825\n",
            "\n",
            "Epoch 00004: saving model to vgg_004.h5\n",
            "Epoch 5/100\n",
            "38/38 [==============================] - 3s 80ms/step - loss: 2.5159 - accuracy: 0.5865 - val_loss: 0.7636 - val_accuracy: 0.6190\n",
            "\n",
            "Epoch 00005: saving model to vgg_005.h5\n",
            "Epoch 6/100\n",
            "38/38 [==============================] - 3s 80ms/step - loss: 2.5797 - accuracy: 0.5342 - val_loss: 0.7520 - val_accuracy: 0.7302\n",
            "\n",
            "Epoch 00006: saving model to vgg_006.h5\n",
            "Epoch 7/100\n",
            "38/38 [==============================] - 3s 81ms/step - loss: 2.5217 - accuracy: 0.6034 - val_loss: 0.7369 - val_accuracy: 0.6667\n",
            "\n",
            "Epoch 00007: saving model to vgg_007.h5\n",
            "Epoch 8/100\n",
            "38/38 [==============================] - 3s 81ms/step - loss: 2.2476 - accuracy: 0.6268 - val_loss: 0.6787 - val_accuracy: 0.6508\n",
            "\n",
            "Epoch 00008: saving model to vgg_008.h5\n",
            "Epoch 9/100\n",
            "38/38 [==============================] - 3s 81ms/step - loss: 2.2596 - accuracy: 0.6077 - val_loss: 0.6820 - val_accuracy: 0.7460\n",
            "\n",
            "Epoch 00009: saving model to vgg_009.h5\n",
            "Epoch 10/100\n",
            "38/38 [==============================] - 3s 81ms/step - loss: 2.1340 - accuracy: 0.6401 - val_loss: 0.6867 - val_accuracy: 0.8254\n",
            "\n",
            "Epoch 00010: saving model to vgg_010.h5\n",
            "Epoch 11/100\n",
            "38/38 [==============================] - 3s 81ms/step - loss: 2.0987 - accuracy: 0.7269 - val_loss: 0.6150 - val_accuracy: 0.8730\n",
            "\n",
            "Epoch 00011: saving model to vgg_011.h5\n",
            "Epoch 12/100\n",
            "38/38 [==============================] - 3s 81ms/step - loss: 1.7255 - accuracy: 0.7900 - val_loss: 0.5937 - val_accuracy: 0.8571\n",
            "\n",
            "Epoch 00012: saving model to vgg_012.h5\n",
            "Epoch 13/100\n",
            "38/38 [==============================] - 3s 82ms/step - loss: 1.7023 - accuracy: 0.8039 - val_loss: 0.5137 - val_accuracy: 0.8571\n",
            "\n",
            "Epoch 00013: saving model to vgg_013.h5\n",
            "Epoch 14/100\n",
            "38/38 [==============================] - 3s 82ms/step - loss: 1.8703 - accuracy: 0.7661 - val_loss: 0.5111 - val_accuracy: 0.9048\n",
            "\n",
            "Epoch 00014: saving model to vgg_014.h5\n",
            "Epoch 15/100\n",
            "38/38 [==============================] - 3s 82ms/step - loss: 1.6215 - accuracy: 0.7815 - val_loss: 0.4948 - val_accuracy: 0.8571\n",
            "\n",
            "Epoch 00015: saving model to vgg_015.h5\n",
            "Epoch 16/100\n",
            "38/38 [==============================] - 3s 82ms/step - loss: 1.5370 - accuracy: 0.8000 - val_loss: 0.4858 - val_accuracy: 0.9048\n",
            "\n",
            "Epoch 00016: saving model to vgg_016.h5\n",
            "Epoch 17/100\n",
            "38/38 [==============================] - 3s 82ms/step - loss: 1.3720 - accuracy: 0.8552 - val_loss: 0.5286 - val_accuracy: 0.9048\n",
            "\n",
            "Epoch 00017: saving model to vgg_017.h5\n",
            "Epoch 18/100\n",
            "38/38 [==============================] - 3s 82ms/step - loss: 1.4236 - accuracy: 0.7883 - val_loss: 0.4078 - val_accuracy: 0.8730\n",
            "\n",
            "Epoch 00018: saving model to vgg_018.h5\n",
            "Epoch 19/100\n",
            "38/38 [==============================] - 3s 82ms/step - loss: 1.3901 - accuracy: 0.8139 - val_loss: 0.4346 - val_accuracy: 0.8571\n",
            "\n",
            "Epoch 00019: saving model to vgg_019.h5\n",
            "Epoch 20/100\n",
            "38/38 [==============================] - 3s 82ms/step - loss: 1.2509 - accuracy: 0.8263 - val_loss: 0.4496 - val_accuracy: 0.8571\n",
            "\n",
            "Epoch 00020: saving model to vgg_020.h5\n",
            "Epoch 21/100\n",
            "38/38 [==============================] - 3s 82ms/step - loss: 1.4318 - accuracy: 0.7915 - val_loss: 0.4115 - val_accuracy: 0.8730\n",
            "\n",
            "Epoch 00021: saving model to vgg_021.h5\n",
            "Epoch 22/100\n",
            "38/38 [==============================] - 3s 83ms/step - loss: 1.4482 - accuracy: 0.7803 - val_loss: 0.4206 - val_accuracy: 0.9048\n",
            "\n",
            "Epoch 00022: saving model to vgg_022.h5\n",
            "Epoch 23/100\n",
            "38/38 [==============================] - 3s 83ms/step - loss: 1.1308 - accuracy: 0.8447 - val_loss: 0.4797 - val_accuracy: 0.8730\n",
            "\n",
            "Epoch 00023: saving model to vgg_023.h5\n",
            "Epoch 24/100\n",
            "38/38 [==============================] - 3s 83ms/step - loss: 1.2327 - accuracy: 0.8219 - val_loss: 0.3732 - val_accuracy: 0.9048\n",
            "\n",
            "Epoch 00024: saving model to vgg_024.h5\n",
            "Epoch 25/100\n",
            "38/38 [==============================] - 3s 83ms/step - loss: 1.2271 - accuracy: 0.8271 - val_loss: 0.3468 - val_accuracy: 0.8889\n",
            "\n",
            "Epoch 00025: saving model to vgg_025.h5\n",
            "Epoch 26/100\n",
            "38/38 [==============================] - 3s 83ms/step - loss: 1.0817 - accuracy: 0.8116 - val_loss: 0.3672 - val_accuracy: 0.9048\n",
            "\n",
            "Epoch 00026: saving model to vgg_026.h5\n",
            "Epoch 27/100\n",
            "38/38 [==============================] - 3s 83ms/step - loss: 1.1116 - accuracy: 0.8037 - val_loss: 0.3978 - val_accuracy: 0.8889\n",
            "\n",
            "Epoch 00027: saving model to vgg_027.h5\n",
            "Epoch 28/100\n",
            "38/38 [==============================] - 3s 84ms/step - loss: 0.8326 - accuracy: 0.8912 - val_loss: 0.4092 - val_accuracy: 0.8889\n",
            "\n",
            "Epoch 00028: saving model to vgg_028.h5\n",
            "Epoch 29/100\n",
            "38/38 [==============================] - 3s 85ms/step - loss: 0.9394 - accuracy: 0.8996 - val_loss: 0.3813 - val_accuracy: 0.9048\n",
            "\n",
            "Epoch 00029: saving model to vgg_029.h5\n",
            "Epoch 30/100\n",
            "38/38 [==============================] - 3s 84ms/step - loss: 1.1780 - accuracy: 0.8086 - val_loss: 0.4263 - val_accuracy: 0.8571\n",
            "\n",
            "Epoch 00030: saving model to vgg_030.h5\n",
            "Epoch 31/100\n",
            "38/38 [==============================] - 3s 84ms/step - loss: 1.0982 - accuracy: 0.8371 - val_loss: 0.3027 - val_accuracy: 0.8730\n",
            "\n",
            "Epoch 00031: saving model to vgg_031.h5\n",
            "Epoch 32/100\n",
            "38/38 [==============================] - 3s 85ms/step - loss: 1.0357 - accuracy: 0.8309 - val_loss: 0.3750 - val_accuracy: 0.9206\n",
            "\n",
            "Epoch 00032: saving model to vgg_032.h5\n",
            "Epoch 33/100\n",
            "38/38 [==============================] - 3s 85ms/step - loss: 0.8514 - accuracy: 0.8781 - val_loss: 0.3488 - val_accuracy: 0.9206\n",
            "\n",
            "Epoch 00033: saving model to vgg_033.h5\n",
            "Epoch 34/100\n",
            "38/38 [==============================] - 3s 86ms/step - loss: 0.9164 - accuracy: 0.8496 - val_loss: 0.2997 - val_accuracy: 0.9206\n",
            "\n",
            "Epoch 00034: saving model to vgg_034.h5\n",
            "Epoch 35/100\n",
            "38/38 [==============================] - 3s 85ms/step - loss: 0.9075 - accuracy: 0.8358 - val_loss: 0.3343 - val_accuracy: 0.9206\n",
            "\n",
            "Epoch 00035: saving model to vgg_035.h5\n",
            "Epoch 36/100\n",
            "38/38 [==============================] - 3s 84ms/step - loss: 0.9258 - accuracy: 0.8676 - val_loss: 0.3183 - val_accuracy: 0.9206\n",
            "\n",
            "Epoch 00036: saving model to vgg_036.h5\n",
            "Epoch 37/100\n",
            "38/38 [==============================] - 3s 84ms/step - loss: 0.7711 - accuracy: 0.8856 - val_loss: 0.3040 - val_accuracy: 0.9206\n",
            "\n",
            "Epoch 00037: saving model to vgg_037.h5\n",
            "Epoch 38/100\n",
            "38/38 [==============================] - 3s 84ms/step - loss: 0.8452 - accuracy: 0.8479 - val_loss: 0.2899 - val_accuracy: 0.9048\n",
            "\n",
            "Epoch 00038: saving model to vgg_038.h5\n",
            "Epoch 39/100\n",
            "38/38 [==============================] - 3s 84ms/step - loss: 0.9148 - accuracy: 0.8565 - val_loss: 0.3390 - val_accuracy: 0.9206\n",
            "\n",
            "Epoch 00039: saving model to vgg_039.h5\n",
            "Epoch 40/100\n",
            "38/38 [==============================] - 3s 84ms/step - loss: 0.7181 - accuracy: 0.8820 - val_loss: 0.2951 - val_accuracy: 0.9048\n",
            "\n",
            "Epoch 00040: saving model to vgg_040.h5\n",
            "Epoch 41/100\n",
            "38/38 [==============================] - 3s 84ms/step - loss: 0.7485 - accuracy: 0.8921 - val_loss: 0.2912 - val_accuracy: 0.8889\n",
            "\n",
            "Epoch 00041: saving model to vgg_041.h5\n",
            "Epoch 42/100\n",
            "38/38 [==============================] - 3s 87ms/step - loss: 0.7296 - accuracy: 0.8733 - val_loss: 0.3199 - val_accuracy: 0.9206\n",
            "\n",
            "Epoch 00042: saving model to vgg_042.h5\n",
            "Epoch 43/100\n",
            "38/38 [==============================] - 3s 84ms/step - loss: 0.5986 - accuracy: 0.9037 - val_loss: 0.3237 - val_accuracy: 0.9048\n",
            "\n",
            "Epoch 00043: saving model to vgg_043.h5\n",
            "Epoch 44/100\n",
            "38/38 [==============================] - 3s 84ms/step - loss: 0.6320 - accuracy: 0.8939 - val_loss: 0.3145 - val_accuracy: 0.9206\n",
            "\n",
            "Epoch 00044: saving model to vgg_044.h5\n",
            "Epoch 45/100\n",
            "38/38 [==============================] - 3s 84ms/step - loss: 0.5118 - accuracy: 0.9250 - val_loss: 0.3122 - val_accuracy: 0.9206\n",
            "\n",
            "Epoch 00045: saving model to vgg_045.h5\n",
            "Epoch 46/100\n",
            "38/38 [==============================] - 3s 84ms/step - loss: 0.8459 - accuracy: 0.8605 - val_loss: 0.3085 - val_accuracy: 0.9206\n",
            "\n",
            "Epoch 00046: saving model to vgg_046.h5\n",
            "Epoch 47/100\n",
            "38/38 [==============================] - 3s 85ms/step - loss: 0.6091 - accuracy: 0.9010 - val_loss: 0.2976 - val_accuracy: 0.9206\n",
            "\n",
            "Epoch 00047: saving model to vgg_047.h5\n",
            "Epoch 48/100\n",
            "38/38 [==============================] - 3s 84ms/step - loss: 0.6021 - accuracy: 0.8944 - val_loss: 0.3114 - val_accuracy: 0.9206\n",
            "\n",
            "Epoch 00048: saving model to vgg_048.h5\n",
            "Epoch 49/100\n",
            "38/38 [==============================] - 3s 84ms/step - loss: 0.7641 - accuracy: 0.8680 - val_loss: 0.3293 - val_accuracy: 0.9048\n",
            "\n",
            "Epoch 00049: saving model to vgg_049.h5\n",
            "Epoch 50/100\n",
            "38/38 [==============================] - 3s 84ms/step - loss: 0.5166 - accuracy: 0.9115 - val_loss: 0.3464 - val_accuracy: 0.8889\n",
            "\n",
            "Epoch 00050: saving model to vgg_050.h5\n",
            "Epoch 51/100\n",
            "38/38 [==============================] - 3s 85ms/step - loss: 0.4908 - accuracy: 0.9117 - val_loss: 0.2906 - val_accuracy: 0.9206\n",
            "\n",
            "Epoch 00051: saving model to vgg_051.h5\n",
            "Epoch 52/100\n",
            "38/38 [==============================] - 3s 85ms/step - loss: 0.5319 - accuracy: 0.9074 - val_loss: 0.3439 - val_accuracy: 0.8889\n",
            "\n",
            "Epoch 00052: saving model to vgg_052.h5\n",
            "Epoch 53/100\n",
            "38/38 [==============================] - 3s 84ms/step - loss: 0.6501 - accuracy: 0.8842 - val_loss: 0.2770 - val_accuracy: 0.9206\n",
            "\n",
            "Epoch 00053: saving model to vgg_053.h5\n",
            "Epoch 54/100\n",
            "38/38 [==============================] - 3s 85ms/step - loss: 0.5442 - accuracy: 0.8995 - val_loss: 0.2945 - val_accuracy: 0.9206\n",
            "\n",
            "Epoch 00054: saving model to vgg_054.h5\n",
            "Epoch 55/100\n",
            "38/38 [==============================] - 3s 85ms/step - loss: 0.6016 - accuracy: 0.8744 - val_loss: 0.3119 - val_accuracy: 0.9206\n",
            "\n",
            "Epoch 00055: saving model to vgg_055.h5\n",
            "Epoch 56/100\n",
            "38/38 [==============================] - 3s 85ms/step - loss: 0.5304 - accuracy: 0.9223 - val_loss: 0.3564 - val_accuracy: 0.8889\n",
            "\n",
            "Epoch 00056: saving model to vgg_056.h5\n",
            "Epoch 57/100\n",
            "38/38 [==============================] - 3s 85ms/step - loss: 0.5056 - accuracy: 0.9226 - val_loss: 0.2901 - val_accuracy: 0.9206\n",
            "\n",
            "Epoch 00057: saving model to vgg_057.h5\n",
            "Epoch 58/100\n",
            "38/38 [==============================] - 3s 86ms/step - loss: 0.4366 - accuracy: 0.9278 - val_loss: 0.3125 - val_accuracy: 0.9048\n",
            "\n",
            "Epoch 00058: saving model to vgg_058.h5\n",
            "Epoch 59/100\n",
            "38/38 [==============================] - 3s 86ms/step - loss: 0.5116 - accuracy: 0.9071 - val_loss: 0.2713 - val_accuracy: 0.9048\n",
            "\n",
            "Epoch 00059: saving model to vgg_059.h5\n",
            "Epoch 60/100\n",
            "38/38 [==============================] - 3s 86ms/step - loss: 1.0076 - accuracy: 0.8052 - val_loss: 0.3294 - val_accuracy: 0.9048\n",
            "\n",
            "Epoch 00060: saving model to vgg_060.h5\n",
            "Epoch 61/100\n",
            "38/38 [==============================] - 3s 86ms/step - loss: 0.6211 - accuracy: 0.8949 - val_loss: 0.2796 - val_accuracy: 0.9048\n",
            "\n",
            "Epoch 00061: saving model to vgg_061.h5\n",
            "Epoch 62/100\n",
            "38/38 [==============================] - 3s 86ms/step - loss: 0.5538 - accuracy: 0.9048 - val_loss: 0.2896 - val_accuracy: 0.9048\n",
            "\n",
            "Epoch 00062: saving model to vgg_062.h5\n",
            "Epoch 63/100\n",
            "38/38 [==============================] - 3s 87ms/step - loss: 0.6034 - accuracy: 0.9134 - val_loss: 0.3227 - val_accuracy: 0.9206\n",
            "\n",
            "Epoch 00063: saving model to vgg_063.h5\n",
            "Epoch 64/100\n",
            "38/38 [==============================] - 3s 87ms/step - loss: 0.6502 - accuracy: 0.8717 - val_loss: 0.3607 - val_accuracy: 0.8889\n",
            "\n",
            "Epoch 00064: saving model to vgg_064.h5\n",
            "Epoch 65/100\n",
            "38/38 [==============================] - 3s 87ms/step - loss: 0.4726 - accuracy: 0.9166 - val_loss: 0.3451 - val_accuracy: 0.8889\n",
            "\n",
            "Epoch 00065: saving model to vgg_065.h5\n",
            "Epoch 66/100\n",
            "38/38 [==============================] - 3s 87ms/step - loss: 0.5093 - accuracy: 0.9222 - val_loss: 0.2889 - val_accuracy: 0.9048\n",
            "\n",
            "Epoch 00066: saving model to vgg_066.h5\n",
            "Epoch 67/100\n",
            "38/38 [==============================] - 3s 87ms/step - loss: 0.5758 - accuracy: 0.9026 - val_loss: 0.3113 - val_accuracy: 0.9206\n",
            "\n",
            "Epoch 00067: saving model to vgg_067.h5\n",
            "Epoch 68/100\n",
            "38/38 [==============================] - 3s 86ms/step - loss: 0.5345 - accuracy: 0.8899 - val_loss: 0.3579 - val_accuracy: 0.8889\n",
            "\n",
            "Epoch 00068: saving model to vgg_068.h5\n",
            "Epoch 69/100\n",
            "38/38 [==============================] - 3s 87ms/step - loss: 0.4750 - accuracy: 0.9181 - val_loss: 0.3614 - val_accuracy: 0.8889\n",
            "\n",
            "Epoch 00069: saving model to vgg_069.h5\n",
            "Epoch 70/100\n",
            "38/38 [==============================] - 3s 87ms/step - loss: 0.4852 - accuracy: 0.9168 - val_loss: 0.3042 - val_accuracy: 0.9206\n",
            "\n",
            "Epoch 00070: saving model to vgg_070.h5\n",
            "Epoch 71/100\n",
            "38/38 [==============================] - 3s 88ms/step - loss: 0.4601 - accuracy: 0.9112 - val_loss: 0.3661 - val_accuracy: 0.8889\n",
            "\n",
            "Epoch 00071: saving model to vgg_071.h5\n",
            "Epoch 72/100\n",
            "38/38 [==============================] - 3s 86ms/step - loss: 0.4229 - accuracy: 0.9321 - val_loss: 0.3694 - val_accuracy: 0.8889\n",
            "\n",
            "Epoch 00072: saving model to vgg_072.h5\n",
            "Epoch 73/100\n",
            "38/38 [==============================] - 3s 87ms/step - loss: 0.5035 - accuracy: 0.9202 - val_loss: 0.3110 - val_accuracy: 0.9206\n",
            "\n",
            "Epoch 00073: saving model to vgg_073.h5\n",
            "Epoch 74/100\n",
            "38/38 [==============================] - 3s 86ms/step - loss: 0.4369 - accuracy: 0.9314 - val_loss: 0.3181 - val_accuracy: 0.9206\n",
            "\n",
            "Epoch 00074: saving model to vgg_074.h5\n",
            "Epoch 75/100\n",
            "38/38 [==============================] - 3s 87ms/step - loss: 0.3454 - accuracy: 0.9398 - val_loss: 0.2984 - val_accuracy: 0.9048\n",
            "\n",
            "Epoch 00075: saving model to vgg_075.h5\n",
            "Epoch 76/100\n",
            "38/38 [==============================] - 3s 86ms/step - loss: 0.3808 - accuracy: 0.9294 - val_loss: 0.3230 - val_accuracy: 0.9206\n",
            "\n",
            "Epoch 00076: saving model to vgg_076.h5\n",
            "Epoch 77/100\n",
            "38/38 [==============================] - 3s 86ms/step - loss: 0.5071 - accuracy: 0.8983 - val_loss: 0.3243 - val_accuracy: 0.9048\n",
            "\n",
            "Epoch 00077: saving model to vgg_077.h5\n",
            "Epoch 78/100\n",
            "38/38 [==============================] - 3s 86ms/step - loss: 0.4846 - accuracy: 0.9025 - val_loss: 0.3078 - val_accuracy: 0.9206\n",
            "\n",
            "Epoch 00078: saving model to vgg_078.h5\n",
            "Epoch 79/100\n",
            "38/38 [==============================] - 3s 86ms/step - loss: 0.4514 - accuracy: 0.9435 - val_loss: 0.3228 - val_accuracy: 0.9206\n",
            "\n",
            "Epoch 00079: saving model to vgg_079.h5\n",
            "Epoch 00079: early stopping\n"
          ],
          "name": "stdout"
        }
      ]
    },
    {
      "cell_type": "code",
      "metadata": {
        "colab": {
          "base_uri": "https://localhost:8080/",
          "height": 545
        },
        "id": "PvP9luK10qJ6",
        "outputId": "412d8d81-c7a5-4252-8207-b0eab2c6e999"
      },
      "source": [
        "accuracy = training.history['accuracy']\r\n",
        "val_accuracy = training.history['val_accuracy']\r\n",
        "loss = training.history['loss']\r\n",
        "val_loss = training.history['val_loss']\r\n",
        "\r\n",
        "epochs = range(len(accuracy))\r\n",
        "plt.plot(epochs, accuracy, 'b', label='Training accuracy')\r\n",
        "plt.plot(epochs, val_accuracy, 'r', label='Validation accuracy')\r\n",
        "\r\n",
        "plt.title('Training and validation accuracy')\r\n",
        "plt.legend()\r\n",
        "plt.figure()\r\n",
        "plt.plot(epochs, loss, 'b', label='Training loss')\r\n",
        "plt.plot(epochs, val_loss, 'r', label='Validation loss')\r\n",
        "plt.title('Training and validation loss')\r\n",
        "plt.legend()\r\n",
        "\r\n",
        "plt.show()"
      ],
      "execution_count": 21,
      "outputs": [
        {
          "output_type": "display_data",
          "data": {
            "image/png": "[encoded data removed]",
            "text/plain": [
              "<Figure size 432x288 with 1 Axes>"
            ]
          },
          "metadata": {
            "tags": [],
            "needs_background": "light"
          }
        },
        {
          "output_type": "display_data",
          "data": {
            "image/png": "[encoded data removed]",
            "text/plain": [
              "<Figure size 432x288 with 1 Axes>"
            ]
          },
          "metadata": {
            "tags": [],
            "needs_background": "light"
          }
        }
      ]
    },
    {
      "cell_type": "markdown",
      "metadata": {
        "id": "V_5KJFcp4hV4"
      },
      "source": [
        "**Evaluation**\r\n",
        "\r\n",
        "Load trained model."
      ]
    },
    {
      "cell_type": "code",
      "metadata": {
        "id": "MKMjcLL16Hmn"
      },
      "source": [
        "model = load_model('vgg_066.h5')"
      ],
      "execution_count": 44,
      "outputs": []
    },
    {
      "cell_type": "markdown",
      "metadata": {
        "id": "CWDTareo5GLw"
      },
      "source": [
        "Get test data."
      ]
    },
    {
      "cell_type": "code",
      "metadata": {
        "colab": {
          "base_uri": "https://localhost:8080/"
        },
        "id": "rvRr2Zy94hC6",
        "outputId": "1bcb7f40-b0be-4b45-ab38-0199d4d4969a"
      },
      "source": [
        "test_image_datagen = ImageDataGenerator(\r\n",
        "  preprocessing_function=preprocess_input,\r\n",
        "  rescale=1./255\r\n",
        ")\r\n",
        "batchsize = 82\r\n",
        "test_image_generator = test_image_datagen.flow_from_directory(\r\n",
        "  directory = \"/content/Dataset/test\",\r\n",
        "  target_size = (256, 256),\r\n",
        "  batch_size = batchsize,\r\n",
        "  shuffle = False,\r\n",
        "  class_mode = 'categorical'\r\n",
        ")\r\n",
        "\r\n",
        "test_images, test_labels = next(test_image_generator)\r\n",
        "\r\n",
        "# Get images order\r\n",
        "image_files = pd.Series(test_image_generator.filenames)\r\n",
        "image_files = list(image_files.str[:-4])\r\n",
        "print(image_files)\r\n",
        "\r\n",
        "# Sort tabular data\r\n",
        "test_tabular_data = pd.read_csv('test_data.csv')\r\n",
        "test_tabular_data = test_tabular_data.sort_values('Id')\r\n",
        "print(test_tabular_data.head())\r\n",
        "test_tabular_data = test_tabular_data.drop(['Id'], axis=1)\r\n",
        "print(test_tabular_data.head())"
      ],
      "execution_count": 42,
      "outputs": [
        {
          "output_type": "stream",
          "text": [
            "Found 82 images belonging to 3 classes.\n",
            "['Bathroom/02715c046c3d471a', 'Bathroom/047c7dabc16d35af', 'Bathroom/06692f725a5b701f', 'Bathroom/0670f374cb492edc', 'Bathroom/086fc364b95665cf', 'Bathroom/08c43f3723264dc4', 'Bathroom/0b89b640ff87bcf7', 'Bathroom/0bbe8bb88a6e0509', 'Bathroom/0fe63b10a0b4ca12', 'Bathroom/19184297dd1f706d', 'Bathroom/1cc82e1c9ab888ba', 'Bathroom/2b7f0eb8153ef7bc', 'Bathroom/3b11341d338060d9', 'Bathroom/4578d572d50dd369', 'Bathroom/47ab0e73c33bdefd', 'Bathroom/4fb76103c9dc4c8d', 'Bathroom/5fa967729ccef74d', 'Bathroom/77525ddb3b77cc02', 'Bathroom/785381c2ad10e66f', 'Bathroom/9043670ac3b9094d', 'Bathroom/ad418899d68f69bf', 'Bathroom/b008536da9781b75', 'Bathroom/b5192bf17ba46344', 'Bathroom/bac968ef33ddb986', 'Bathroom/ddd3f96ff7f0bc78', 'Bedroom/01eab6736c66f762', 'Bedroom/0422398e5e607a2b', 'Bedroom/06ae040c8af68a59', 'Bedroom/08530075bffc70a7', 'Bedroom/0af835183c8d6777', 'Bedroom/0c9cbf4e69f9f710', 'Bedroom/0e540b713b49e598', 'Bedroom/120755e65198a759', 'Bedroom/172d3bfed1961bb2', 'Bedroom/1b5f5e995343b3af', 'Bedroom/1d62fea31770e150', 'Bedroom/1ff2bb311ada7973', 'Bedroom/222efd3630bb6706', 'Bedroom/29aba71c167eccc5', 'Bedroom/2e93ac7554bdebfc', 'Bedroom/3a9b5c0b50efc934', 'Bedroom/4395467380db8fd8', 'Bedroom/52556bb1af534e10', 'Bedroom/662a51a19a99dbac', 'Bedroom/753d009feaaf1afc', 'Bedroom/81fbd892908aa293', 'Bedroom/a359ca53d4609faa', 'Bedroom/b27021d3a2e42fe6', 'Bedroom/bbdb339dd413b2a0', 'Bedroom/c1e656670d594976', 'Bedroom/c76254990e561d12', 'Bedroom/c9e4bc5061b59a48', 'Bedroom/d794d9f52414c141', 'Bedroom/df1925934776a905', 'Bedroom/dfea338b0f15834d', 'Bedroom/e192de639649a504', 'Bedroom/e38a0fbee0133825', 'Bedroom/e787e218ecf86cfa', 'Bedroom/eb3b5968f19a74d5', 'Bedroom/ee76005160d9c04b', 'Bedroom/f3b2bedd8113f74a', 'Bedroom/f7e3060d2cf4b81a', 'Kitchen/00893b8e13065954', 'Kitchen/0477154c66e5ddcb', 'Kitchen/07e7543b8e7972bf', 'Kitchen/0c9275268eaab6c2', 'Kitchen/14257ba8c6144c4a', 'Kitchen/14977d3c505d7494', 'Kitchen/15e1df4756887a74', 'Kitchen/19797eb3e38916c1', 'Kitchen/1c250844583fcec4', 'Kitchen/214e078fa3132ec5', 'Kitchen/26791f7f58b801e5', 'Kitchen/28a46ce2c68622e0', 'Kitchen/2f7cbbb92013782b', 'Kitchen/427b661c44be4287', 'Kitchen/44a9c11bb3faa38f', 'Kitchen/691164e891ffe723', 'Kitchen/7751d3a7ced10598', 'Kitchen/8d9b439d082dc0b6', 'Kitchen/9dee94777bb1b356', 'Kitchen/e8669fae5377762c']\n",
            "                           Id  Bathtub  Bed  ...  Sink  Toilet  Window\n",
            "13  Bathroom/02715c046c3d471a        0    0  ...     1       0       0\n",
            "9   Bathroom/047c7dabc16d35af        0    0  ...     0       0       0\n",
            "15  Bathroom/06692f725a5b701f        0    0  ...     0       1       0\n",
            "12  Bathroom/0670f374cb492edc        0    0  ...     0       1       0\n",
            "11  Bathroom/086fc364b95665cf        0    0  ...     0       1       0\n",
            "\n",
            "[5 rows x 8 columns]\n",
            "    Bathtub  Bed  Oven  Refrigerator  Sink  Toilet  Window\n",
            "13        0    0     0             0     1       0       0\n",
            "9         0    0     0             0     0       0       0\n",
            "15        0    0     0             0     0       1       0\n",
            "12        0    0     0             0     0       1       0\n",
            "11        0    0     0             0     0       1       0\n"
          ],
          "name": "stdout"
        }
      ]
    },
    {
      "cell_type": "code",
      "metadata": {
        "colab": {
          "base_uri": "https://localhost:8080/"
        },
        "id": "jhzN4sDD5Oxv",
        "outputId": "bcd7318a-388e-4ec3-86e8-780cff14af6c"
      },
      "source": [
        "results = model.evaluate([test_tabular_data, test_images], test_labels)\r\n",
        "print(results)\r\n",
        "predictions = model.predict([test_tabular_data, test_images])\r\n",
        "predictions = np.argmax(predictions, axis=1)\r\n",
        "print(classification_report(test_image_generator.classes, predictions,\r\n",
        "\ttarget_names=test_image_generator.class_indices.keys()))\r\n",
        "print(confusion_matrix(test_image_generator.classes, predictions))"
      ],
      "execution_count": 45,
      "outputs": [
        {
          "output_type": "stream",
          "text": [
            "3/3 [==============================] - 58s 18s/step - loss: 0.1987 - accuracy: 0.9146\n",
            "[0.19865240156650543, 0.9146341681480408]\n",
            "              precision    recall  f1-score   support\n",
            "\n",
            "    Bathroom       0.92      0.92      0.92        25\n",
            "     Bedroom       0.97      0.92      0.94        37\n",
            "     Kitchen       0.82      0.90      0.86        20\n",
            "\n",
            "    accuracy                           0.91        82\n",
            "   macro avg       0.90      0.91      0.91        82\n",
            "weighted avg       0.92      0.91      0.92        82\n",
            "\n",
            "[[23  1  1]\n",
            " [ 0 34  3]\n",
            " [ 2  0 18]]\n"
          ],
          "name": "stdout"
        }
      ]
    },
    {
      "cell_type": "markdown",
      "metadata": {
        "id": "luQeIOvZrCjb"
      },
      "source": [
        "**Obtain Tabular Data From Annotations**"
      ]
    },
    {
      "cell_type": "markdown",
      "metadata": {
        "id": "wPqkdZ3YJtyI"
      },
      "source": [
        "Save data to csv."
      ]
    },
    {
      "cell_type": "code",
      "metadata": {
        "id": "K5bTy3xxHNdm"
      },
      "source": [
        "import csv\r\n",
        "\r\n",
        "def save_data_csv(data_file, data_to_save, columns):\r\n",
        "  csv_file = data_file + '_data.csv'\r\n",
        "\r\n",
        "  with open(csv_file, 'w') as csvfile:\r\n",
        "    writer = csv.DictWriter(csvfile, fieldnames=columns)\r\n",
        "    writer.writeheader()\r\n",
        "    for data in data_to_save:\r\n",
        "      writer.writerow(data)"
      ],
      "execution_count": 25,
      "outputs": []
    },
    {
      "cell_type": "markdown",
      "metadata": {
        "id": "kYooJx4l_r3q"
      },
      "source": [
        "**Tabular Data from Real Annotations**\r\n",
        "\r\n",
        "This section is to build the tabular data used in the concatenated model from the images real annotations, while the object detection is not complete.\r\n"
      ]
    },
    {
      "cell_type": "code",
      "metadata": {
        "id": "bSSXhSwg3u8F"
      },
      "source": [
        "import os\r\n",
        "class_names = ['Bathroom', 'Bedroom', 'Kitchen']\r\n",
        "dataset = ['validation', 'test', 'train']\r\n",
        "\r\n",
        "csv_columns = ['Id', 'Bathtub', 'Bed', 'Oven', 'Refrigerator', 'Sink', 'Toilet', 'Window']\r\n",
        "\r\n",
        "for d in dataset:\r\n",
        "  tabular_data = []\r\n",
        "  for c in class_names:\r\n",
        "    filenames = os.listdir('Dataset/GroundTruth/' + d + '/' + c)\r\n",
        "\r\n",
        "    for fname in filenames:\r\n",
        "      obj_dict = {\r\n",
        "        'Id': c + '/' + fname[:-4],\r\n",
        "        'Bathtub': 0,\r\n",
        "        'Bed': 0,\r\n",
        "        'Oven': 0,\r\n",
        "        'Refrigerator': 0,\r\n",
        "        'Sink': 0,\r\n",
        "        'Toilet': 0,\r\n",
        "        'Window': 0\r\n",
        "      }\r\n",
        "      f = open('Dataset/GroundTruth/' + d + '/' + c + '/' + fname, \"r\")\r\n",
        "      labels = f.read().split('\\n')\r\n",
        "      labels = list(filter(None, labels))\r\n",
        "      for label in labels:\r\n",
        "        label = label.split(' ')\r\n",
        "        obj = label[0]\r\n",
        "        obj_dict[obj] += 1\r\n",
        "      tabular_data.append(obj_dict)\r\n",
        "\r\n",
        "  save_data_csv(d, tabular_data, csv_columns)"
      ],
      "execution_count": 37,
      "outputs": []
    },
    {
      "cell_type": "markdown",
      "metadata": {
        "id": "Un27qKfabDx4"
      },
      "source": [
        "**Tabular Data from Object Detection Annotations**\r\n",
        "\r\n",
        "This section is to build the tabular data used in the concatenated model from the annotations obtained by the object detection network."
      ]
    },
    {
      "cell_type": "code",
      "metadata": {
        "id": "ReaFkWq7bY6n"
      },
      "source": [
        "import os\r\n",
        "class_names = ['Bathroom', 'Bedroom', 'Kitchen']\r\n",
        "objects = ['Toilet', 'Refrigerator', 'Bed', 'Window', 'Oven', 'Sink', 'Bathtub']\r\n",
        "dataset = ['validation', 'test', 'train']\r\n",
        "\r\n",
        "csv_columns = ['Id', 'Bathtub', 'Bed', 'Oven', 'Refrigerator', 'Sink', 'Toilet', 'Window']\r\n",
        "\r\n",
        "for d in dataset:\r\n",
        "  tabular_data = []\r\n",
        "  f = open('result_' + d + '.txt', 'r')\r\n",
        "  data = f.read()\r\n",
        "  # Remove data before \"Enter Image Path\" in the annotation file results\r\n",
        "  # and separate data based on \"Enter Image Path\", which identifies\r\n",
        "  # a set of annotations for a new image.\r\n",
        "  lines = data[data.find('Enter Image Path'):].split('Enter Image Path: ')\r\n",
        "  lines = list(filter(None, lines))\r\n",
        "\r\n",
        "  for line in lines:\r\n",
        "    line = line.split('\\n')\r\n",
        "    line = list(filter(None, line))\r\n",
        "    \r\n",
        "    # Find image id\r\n",
        "    image_id = line[0][12:line[0].find('.jpg')]\r\n",
        "\r\n",
        "    # Find the class to each the image belongs\r\n",
        "    for c in class_names:\r\n",
        "      filenames = os.listdir('Dataset/GroundTruth/' + d + '/' + c)\r\n",
        "      txt_file_name = image_id + '.txt'\r\n",
        "      if txt_file_name in filenames:\r\n",
        "        image_id = c + '/' + image_id\r\n",
        "        break\r\n",
        "\r\n",
        "    obj_dict = {\r\n",
        "      'Id': image_id,\r\n",
        "      'Bathtub': 0,\r\n",
        "      'Bed': 0,\r\n",
        "      'Oven': 0,\r\n",
        "      'Refrigerator': 0,\r\n",
        "      'Sink': 0,\r\n",
        "      'Toilet': 0,\r\n",
        "      'Window': 0\r\n",
        "    }\r\n",
        "\r\n",
        "    # Register objects found in obj_dict\r\n",
        "    for annotation in line[1:]:\r\n",
        "      obj = objects[int(annotation[0])]\r\n",
        "      obj_dict[obj] += 1\r\n",
        "    tabular_data.append(obj_dict)\r\n",
        "\r\n",
        "  save_data_csv(d, tabular_data, csv_columns)"
      ],
      "execution_count": 40,
      "outputs": []
    }
  ]
}